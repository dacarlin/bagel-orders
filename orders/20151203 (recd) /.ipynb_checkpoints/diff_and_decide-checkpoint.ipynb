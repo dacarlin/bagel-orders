{
 "cells": [
  {
   "cell_type": "code",
   "execution_count": 1,
   "metadata": {
    "collapsed": false,
    "scrolled": true
   },
   "outputs": [
    {
     "name": "stderr",
     "output_type": "stream",
     "text": [
      "dos2unix: converting file kunkelWellCSV_r18ershefps4r.csv to Unix format...\n",
      "Merge two overlapping sequences\n",
      "Error: Failed to open filename 'fwd_reads/mutant*seq'\n",
      "Error: Unable to read sequence 'fwd_reads/mutant*seq'\n",
      "Died: merger terminated: Bad value for '-asequence' and no prompt\n",
      "Merge two overlapping sequences\n",
      "Error: Failed to open filename 'fwd_reads/name*seq'\n",
      "Error: Unable to read sequence 'fwd_reads/name*seq'\n",
      "Died: merger terminated: Bad value for '-asequence' and no prompt\n",
      "Merge two overlapping sequences\n",
      "Merge two overlapping sequences\n",
      "Merge two overlapping sequences\n",
      "Merge two overlapping sequences\n",
      "Merge two overlapping sequences\n",
      "Merge two overlapping sequences\n",
      "Merge two overlapping sequences\n",
      "Merge two overlapping sequences\n",
      "Merge two overlapping sequences\n",
      "Merge two overlapping sequences\n",
      "Merge two overlapping sequences\n",
      "Merge two overlapping sequences\n",
      "Merge two overlapping sequences\n",
      "Merge two overlapping sequences\n",
      "Merge two overlapping sequences\n",
      "Merge two overlapping sequences\n",
      "Merge two overlapping sequences\n",
      "Merge two overlapping sequences\n",
      "Merge two overlapping sequences\n",
      "Merge two overlapping sequences\n",
      "Merge two overlapping sequences\n",
      "Merge two overlapping sequences\n",
      "Merge two overlapping sequences\n",
      "Merge two overlapping sequences\n",
      "Merge two overlapping sequences\n",
      "Merge two overlapping sequences\n",
      "Merge two overlapping sequences\n",
      "Merge two overlapping sequences\n",
      "Merge two overlapping sequences\n",
      "Merge two overlapping sequences\n",
      "Merge two overlapping sequences\n",
      "Merge two overlapping sequences\n",
      "Merge two overlapping sequences\n",
      "Merge two overlapping sequences\n",
      "Merge two overlapping sequences\n",
      "Merge two overlapping sequences\n",
      "Merge two overlapping sequences\n",
      "Merge two overlapping sequences\n",
      "Merge two overlapping sequences\n",
      "Merge two overlapping sequences\n",
      "Merge two overlapping sequences\n",
      "Merge two overlapping sequences\n",
      "Merge two overlapping sequences\n",
      "Merge two overlapping sequences\n",
      "Merge two overlapping sequences\n",
      "Merge two overlapping sequences\n",
      "Merge two overlapping sequences\n",
      "Merge two overlapping sequences\n"
     ]
    }
   ],
   "source": [
    "%%bash \n",
    "\n",
    "export FN='kunkelWellCSV_r18ershefps4r.csv'\n",
    "\n",
    "dos2unix $FN # fix any stupid DOS input files \n",
    "mkdir out \n",
    "\n",
    "for i in $( cut -d, -f3 $FN ); do\n",
    "  ASEQ=fwd_reads/$i*seq\n",
    "  BSEQ=rev_reads/$i*seq\n",
    "  merger -asequence $ASEQ -bsequence $BSEQ -sreverse2 -outfile out/$i.merger -outseq out/$i.fasta\n",
    "done \n",
    "\n",
    "for i in out/*fasta; do\n",
    "  blastn -subject bagel.fasta -query $i -out ${i/fasta/blast}  \n",
    "  blastn -subject bagel.fasta -query $i -outfmt \"6 sseq qseq\" -out ${i/fasta/aligned} \n",
    "  tblastn -subject $i -query bglb.pep -outfmt \"6 qseq sseq\" -out ${i/fasta/diff} \n",
    "done "
   ]
  },
  {
   "cell_type": "code",
   "execution_count": 23,
   "metadata": {
    "collapsed": false
   },
   "outputs": [],
   "source": [
    "from glob import glob \n",
    "import pandas \n",
    "import json \n",
    "\n",
    "well_map = 'kunkelWellCSV_r18ershefps4r.csv'\n",
    "\n",
    "# diff and decide \n",
    "df = pandas.read_csv( well_map )\n",
    "df.set_index( 'mutant name', inplace=True )\n",
    "\n",
    "picks = { }\n",
    "for fil in glob( 'out/*diff' ):\n",
    "    with open( fil ) as fn:\n",
    "        sub, que = fn.readlines()[0].split( '\\t' )   \n",
    "        d = '+'.join( [ '{}{}{}'.format(i, n+1, j).lower() for (n, (i, j)) in enumerate( zip( sub, que ) ) if i != j ] ) \n",
    "        mutant_label = fil.split( '/' )[1].split( '.' )[0]\n",
    "        mutant_name = mutant_label.split( '-' )[0]\n",
    "        if mutant_name == d:\n",
    "            picks.update( { d: df.loc[ mutant_label ].well } )\n",
    "\n",
    "with open( 'picks.json', 'w' ) as fn:\n",
    "    fn.write( json.dumps( picks, indent=2 ) ) "
   ]
  },
  {
   "cell_type": "code",
   "execution_count": 24,
   "metadata": {
    "collapsed": false
   },
   "outputs": [
    {
     "name": "stdout",
     "output_type": "stream",
     "text": [
      "y294h A2\n",
      "f248k A1\n",
      "l171e G5\n",
      "y166e E6\n",
      "i244e E1\n",
      "t296e D2\n",
      "w325e F2\n",
      "s298e B3\n",
      "e164d D3\n",
      "e388c H3\n",
      "f415d A5\n",
      "l171d D5\n",
      "n220d B4\n",
      "n163k H5\n",
      "n220e F4\n",
      "f415n H6\n"
     ]
    }
   ],
   "source": [
    "for k, v in picks.iteritems():\n",
    "    print k, v"
   ]
  },
  {
   "cell_type": "code",
   "execution_count": 25,
   "metadata": {
    "collapsed": false,
    "scrolled": false
   },
   "outputs": [],
   "source": [
    "from autoprotocol import Protocol\n",
    "from autoprotocol_lib import transcriptic_protocol\n",
    "p = Protocol()\n",
    "\n",
    "# grow plate: ct18euwk4uqchv, 96-flat \n",
    "kunkel_grow = p.ref( 'kunkel_grow', id='ct18euwk4uqchv', cont_type='96-flat', storage='cold_4' )\n",
    "miniprep_grow = p.ref( 'miniprep_grow', cont_type='96-deep', discard=True )\n",
    "dna = p.ref( 'dna', cont_type='96-pcr', storage='cold_20' )\n",
    "p.dispense_full_plate( miniprep_grow, 'lb-broth-50ug-ml-kan', '1800:microliter' )\n",
    "\n",
    "for k, v in picks.iteritems():\n",
    "    p.transfer( kunkel_grow.well( v ), miniprep_grow.well( v ), '15:microliter' )\n",
    "\n",
    "p.seal( miniprep_grow )\n",
    "p.incubate( miniprep_grow, 'warm_37', '16:hour', shaking=True )\n",
    "p.unseal( miniprep_grow )\n",
    "\n",
    "for i in picks.values():\n",
    "    p.miniprep( miniprep_grow.well( i ), dna.well( i ) )\n",
    "    \n",
    "with open( 'miniprep_protocol.json', 'w' ) as fn:\n",
    "    fn.write( json.dumps( p.as_dict(), indent=2 ) ) "
   ]
  },
  {
   "cell_type": "code",
   "execution_count": 22,
   "metadata": {
    "collapsed": false
   },
   "outputs": [
    {
     "name": "stdout",
     "output_type": "stream",
     "text": [
      "✓ Protocol analyzed\n",
      "  21 instructions\n",
      "  3 containers\n",
      "  $716.73\n"
     ]
    }
   ],
   "source": [
    "! transcriptic analyze miniprep_protocol.json"
   ]
  },
  {
   "cell_type": "code",
   "execution_count": null,
   "metadata": {
    "collapsed": true
   },
   "outputs": [],
   "source": []
  }
 ],
 "metadata": {
  "kernelspec": {
   "display_name": "Python 2",
   "language": "python",
   "name": "python2"
  },
  "language_info": {
   "codemirror_mode": {
    "name": "ipython",
    "version": 2
   },
   "file_extension": ".py",
   "mimetype": "text/x-python",
   "name": "python",
   "nbconvert_exporter": "python",
   "pygments_lexer": "ipython2",
   "version": "2.7.10"
  }
 },
 "nbformat": 4,
 "nbformat_minor": 0
}
