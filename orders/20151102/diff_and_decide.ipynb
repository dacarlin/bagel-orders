{
 "cells": [
  {
   "cell_type": "code",
   "execution_count": null,
   "metadata": {
    "collapsed": true
   },
   "outputs": [],
   "source": [
    "%%bash \n",
    "\n",
    "\n",
    "dos2unix $FN # fix any stupid DOS input files \n",
    "mkdir out \n",
    "\n",
    "for i in $( cut -d, -f3 $FN ); do\n",
    "  ASEQ=fwd_reads/$i*seq\n",
    "  BSEQ=rev_reads/$i*seq\n",
    "  merger -asequence $ASEQ -bsequence $BSEQ -sreverse2 -outfile out/$i.merger -outseq out/$i.fasta\n",
    "done \n",
    "\n",
    "for i in out/*fasta; do\n",
    "  blastn -subject bagel.fasta -query $i -out ${i/fasta/blast}  \n",
    "  blastn -subject bagel.fasta -query $i -outfmt \"6 sseq qseq\" -out ${i/fasta/aligned} \n",
    "  tblastn -subject $i -query bglb.pep -outfmt \"6 qseq sseq\" -out ${i/fasta/diff} \n",
    "done "
   ]
  },
  {
   "cell_type": "code",
   "execution_count": 1,
   "metadata": {
    "collapsed": false
   },
   "outputs": [
    {
     "name": "stdout",
     "output_type": "stream",
     "text": [
      "{\r\n",
      "  \"w407k\": \"D6\", \r\n",
      "  \"a236e\": \"D1\", \r\n",
      "  \"n163s\": \"D2\", \r\n",
      "  \"a249e\": \"F7\", \r\n",
      "  \"w407y\": \"F2\", \r\n",
      "  \"q19p\": \"B3\", \r\n",
      "  \"g153a\": \"F5\", \r\n",
      "  \"v320q\": \"G3\", \r\n",
      "  \"a227w\": \"C4\", \r\n"
     ]
    }
   ],
   "source": [
    "from glob import glob \n",
    "import pandas \n",
    "\n",
    "well_map = 'kunkelWellCSV_r18bf4kyjjtv8.csv'\n",
    "\n",
    "# merge and align the sequences \n",
    "\n",
    "\n",
    "\n",
    "\n",
    "# diff and decide \n",
    "df = pandas.read_csv( well_map )\n",
    "df.set_index( 'mutant name', inplace=True )\n",
    "\n",
    "picks = { }\n",
    "for fil in glob( 'out/*diff' ):\n",
    "    with open( fil ) as fn:\n",
    "        sub, que = fn.readlines()[0].split( '\\t' )   \n",
    "        d = '+'.join( [ '{}{}{}'.format(i, n+1, j).lower() for (n, (i, j)) in enumerate( zip( sub, que ) ) if i != j ] ) \n",
    "        mutant_label = fil.split( '/' )[1].split( '.' )[0]\n",
    "        mutant_name = mutant_label.split( '-' )[0]\n",
    "        if mutant_name == d:\n",
    "            picks.update( { d: df.loc[ mutant_label ].well } )\n",
    "import json \n",
    "with open( 'picks.json', 'w' ) as fn:\n",
    "    fn.write( json.dumps( picks, indent=2 ) ) \n",
    "#clones = pandas.DataFrame( picks, columns=['clone', 'well'] )\n",
    "#print 'Found that {} out of {} clones are correct ({}%)'.format( len( clones ), len( df ), 100 * len( clones ) / len( df ) )\n",
    "#clones.to_csv( 'clones.csv' )"
   ]
  },
  {
   "cell_type": "code",
   "execution_count": 2,
   "metadata": {
    "collapsed": false
   },
   "outputs": [
    {
     "name": "stdout",
     "output_type": "stream",
     "text": [
      "w407k D6\n",
      "a236e D1\n",
      "n163s D2\n",
      "a249e F7\n",
      "w407y F2\n",
      "q19p B3\n",
      "g153a F5\n",
      "v320q G3\n",
      "a227w C4\n",
      "y294l D4\n",
      "g12n C1\n",
      "s32l C3\n",
      "e353f H5\n",
      "f343s F6\n",
      "d121f D5\n",
      "h315r C7\n",
      "e281h C8\n"
     ]
    }
   ],
   "source": [
    "for k, v in picks.iteritems():\n",
    "    print k, v"
   ]
  },
  {
   "cell_type": "code",
   "execution_count": 19,
   "metadata": {
    "collapsed": false
   },
   "outputs": [],
   "source": [
    "from autoprotocol import Protocol\n",
    "from autoprotocol_lib import transcriptic_protocol\n",
    "p = Protocol()\n",
    "\n",
    "miniprep_grow = p.ref( 'miniprep_grow', cont_type='96-deep', discard=True )\n",
    "p.dispense( miniprep_grow, 'lb-broth-50ug-ml-kan', [{'column': i, 'volume': '1800:microliter'} for i in range( 13 ) ] )\n",
    "#for k, v in picks.iteritems():\n",
    "#    p.transfer(  )"
   ]
  },
  {
   "cell_type": "code",
   "execution_count": 20,
   "metadata": {
    "collapsed": false
   },
   "outputs": [
    {
     "ename": "TypeError",
     "evalue": "miniprep() takes exactly 3 arguments (1 given)",
     "output_type": "error",
     "traceback": [
      "\u001b[0;31m---------------------------------------------------------------------------\u001b[0m",
      "\u001b[0;31mTypeError\u001b[0m                                 Traceback (most recent call last)",
      "\u001b[0;32m<ipython-input-20-4642a4b3279c>\u001b[0m in \u001b[0;36m<module>\u001b[0;34m()\u001b[0m\n\u001b[0;32m----> 1\u001b[0;31m \u001b[0mp\u001b[0m\u001b[0;34m.\u001b[0m\u001b[0mminiprep\u001b[0m\u001b[0;34m(\u001b[0m\u001b[0;34m)\u001b[0m\u001b[0;34m\u001b[0m\u001b[0m\n\u001b[0m",
      "\u001b[0;31mTypeError\u001b[0m: miniprep() takes exactly 3 arguments (1 given)"
     ]
    }
   ],
   "source": [
    "p.miniprep()"
   ]
  },
  {
   "cell_type": "code",
   "execution_count": null,
   "metadata": {
    "collapsed": true
   },
   "outputs": [],
   "source": []
  }
 ],
 "metadata": {
  "kernelspec": {
   "display_name": "Python 2",
   "language": "python",
   "name": "python2"
  },
  "language_info": {
   "codemirror_mode": {
    "name": "ipython",
    "version": 2
   },
   "file_extension": ".py",
   "mimetype": "text/x-python",
   "name": "python",
   "nbconvert_exporter": "python",
   "pygments_lexer": "ipython2",
   "version": "2.7.10"
  }
 },
 "nbformat": 4,
 "nbformat_minor": 0
}
