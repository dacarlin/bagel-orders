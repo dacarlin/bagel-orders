{
 "cells": [
  {
   "cell_type": "code",
   "execution_count": 12,
   "metadata": {
    "collapsed": false
   },
   "outputs": [
    {
     "name": "stdout",
     "output_type": "stream",
     "text": [
      "Found that 26 out of 60 clones are correct (43%)\n"
     ]
    }
   ],
   "source": [
    "from subprocess import call \n",
    "from glob import glob \n",
    "import pandas \n",
    "\n",
    "well_map = 'kunkelWellCSV_r18bf4kyjjtv8.csv'\n",
    "\n",
    "# merge and align the sequences \n",
    "call(['bash', 'merge_and_align.bash', well_map ])\n",
    "\n",
    "# diff and decide \n",
    "df = pandas.read_csv( well_map )\n",
    "df.set_index( 'mutant name', inplace=True )\n",
    "\n",
    "picks = [] \n",
    "for fil in glob( 'out/*diff' ):\n",
    "  with open( fil ) as fn:\n",
    "    sub, que = fn.readlines()[0].split( '\\t' )   \n",
    "    d = '+'.join( [ '{}{}{}'.format(i, n+1, j).lower() for (n, (i, j)) in enumerate( zip( sub, que ) ) if i != j ] ) \n",
    "    mutant_label = fil.split( '/' )[1].split( '.' )[0]\n",
    "    mutant_name = mutant_label.split( '-' )[0]\n",
    "    if mutant_name == d:\n",
    "      picks.append( ( mutant_label, df.loc[ mutant_label ].well ) )\n",
    "\n",
    "clones = pandas.DataFrame( picks, columns=['clone', 'well'] )\n",
    "print 'Found that {} out of {} clones are correct ({}%)'.format( len( clones ), len( df ), 100 * len( clones ) / len( df ) )\n",
    "clones.to_csv( 'clones.csv' )"
   ]
  },
  {
   "cell_type": "code",
   "execution_count": null,
   "metadata": {
    "collapsed": true
   },
   "outputs": [],
   "source": []
  }
 ],
 "metadata": {
  "kernelspec": {
   "display_name": "Python 2",
   "language": "python",
   "name": "python2"
  },
  "language_info": {
   "codemirror_mode": {
    "name": "ipython",
    "version": 2
   },
   "file_extension": ".py",
   "mimetype": "text/x-python",
   "name": "python",
   "nbconvert_exporter": "python",
   "pygments_lexer": "ipython2",
   "version": "2.7.10"
  }
 },
 "nbformat": 4,
 "nbformat_minor": 0
}
