{
 "cells": [
  {
   "cell_type": "code",
   "execution_count": 3,
   "metadata": {
    "collapsed": false
   },
   "outputs": [
    {
     "name": "stdout",
     "output_type": "stream",
     "text": [
      "a227w-3 has the correct sequence in well C4\n",
      "a236e-1 has the correct sequence in well D1\n",
      "a249e-2 has the correct sequence in well E7\n",
      "a249e-3 has the correct sequence in well F7\n",
      "d121f-3 has the correct sequence in well D5\n",
      "e281h-1 has the correct sequence in well B8\n",
      "e281h-2 has the correct sequence in well C8\n",
      "e353f-1 has the correct sequence in well H5\n",
      "f343s-1 has the correct sequence in well F6\n",
      "g12n-2 has the correct sequence in well B1\n",
      "g12n-3 has the correct sequence in well C1\n",
      "g153a-1 has the correct sequence in well E5\n",
      "g153a-2 has the correct sequence in well F5\n",
      "h315r-1 has the correct sequence in well A7\n",
      "h315r-3 has the correct sequence in well C7\n",
      "n163s-1 has the correct sequence in well B2\n",
      "n163s-3 has the correct sequence in well D2\n",
      "q19p-1 has the correct sequence in well H2\n",
      "q19p-3 has the correct sequence in well B3\n",
      "s32l-1 has the correct sequence in well C3\n",
      "v320q-1 has the correct sequence in well F3\n",
      "v320q-2 has the correct sequence in well G3\n",
      "w407k-2 has the correct sequence in well D6\n",
      "w407y-1 has the correct sequence in well E2\n",
      "w407y-2 has the correct sequence in well F2\n",
      "y294l-1 has the correct sequence in well D4\n"
     ]
    }
   ],
   "source": [
    "from subprocess import call \n",
    "from glob import glob \n",
    "import pandas \n",
    "\n",
    "well_map = 'kunkelWellCSV_r18bf4kyjjtv8.csv'\n",
    "\n",
    "# merge and align the sequences \n",
    "call(['bash', 'merge.bash', well_map ])\n",
    "call(['bash', 'align.bash' ])\n",
    "\n",
    "df = pandas.read_csv( well_map )\n",
    "\n",
    "for fil in glob( 'out/*diff' ):\n",
    "  with open( fil ) as fn:\n",
    "    sub, que = fn.readlines()[0].split( '\\t' )   \n",
    "    d = '+'.join( [ '{}{}{}'.format(i, n+1, j).lower() for (n, (i, j)) in enumerate( zip( sub, que ) ) if i != j ] ) \n",
    "    if fil.split( '/' )[1].split( '.' )[0].split( '-' )[0] == d:\n",
    "      print fil.split( '/' )[1].split( '.' )[0], 'has the correct sequence' , \n",
    "      print 'in well {}'.format( df[( df['mutant name'] == fil.split( '/' )[1].split( '.' )[0] )].well.iget(0) ) "
   ]
  },
  {
   "cell_type": "code",
   "execution_count": null,
   "metadata": {
    "collapsed": true
   },
   "outputs": [],
   "source": []
  }
 ],
 "metadata": {
  "kernelspec": {
   "display_name": "Python 2",
   "language": "python",
   "name": "python2"
  },
  "language_info": {
   "codemirror_mode": {
    "name": "ipython",
    "version": 2
   },
   "file_extension": ".py",
   "mimetype": "text/x-python",
   "name": "python",
   "nbconvert_exporter": "python",
   "pygments_lexer": "ipython2",
   "version": "2.7.10"
  }
 },
 "nbformat": 4,
 "nbformat_minor": 0
}
