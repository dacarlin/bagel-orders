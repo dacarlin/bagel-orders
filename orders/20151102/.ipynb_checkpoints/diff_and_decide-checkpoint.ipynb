{
 "cells": [
  {
   "cell_type": "code",
   "execution_count": 1,
   "metadata": {
    "collapsed": false
   },
   "outputs": [],
   "source": [
    "from subprocess import call \n",
    "from glob import glob \n",
    "import pandas \n",
    "\n",
    "well_map = 'kunkelWellCSV_r18bf4kyjjtv8.csv'\n",
    "\n",
    "# merge and align the sequences \n",
    "call(['bash', 'merge_and_align.bash', well_map ])\n",
    "\n",
    "# diff and decide \n",
    "df = pandas.read_csv( well_map )\n",
    "df.set_index( 'mutant name', inplace=True )\n",
    "\n",
    "picks = {} \n",
    "for fil in glob( 'out/*diff' ):\n",
    "  with open( fil ) as fn:\n",
    "    sub, que = fn.readlines()[0].split( '\\t' )   \n",
    "    d = '+'.join( [ '{}{}{}'.format(i, n+1, j).lower() for (n, (i, j)) in enumerate( zip( sub, que ) ) if i != j ] ) \n",
    "    mutant_label = fil.split( '/' )[1].split( '.' )[0]\n",
    "    mutant_name = mutant_label.split( '-' )[0]\n",
    "    if mutant_name == d:\n",
    "      picks.update( { mutant_label: df.loc[ mutant_label ].well } ) "
   ]
  },
  {
   "cell_type": "code",
   "execution_count": 2,
   "metadata": {
    "collapsed": false
   },
   "outputs": [
    {
     "data": {
      "text/plain": [
       "{'a227w-3': 'C4',\n",
       " 'a236e-1': 'D1',\n",
       " 'a249e-2': 'E7',\n",
       " 'a249e-3': 'F7',\n",
       " 'd121f-3': 'D5',\n",
       " 'e281h-1': 'B8',\n",
       " 'e281h-2': 'C8',\n",
       " 'e353f-1': 'H5',\n",
       " 'f343s-1': 'F6',\n",
       " 'g12n-2': 'B1',\n",
       " 'g12n-3': 'C1',\n",
       " 'g153a-1': 'E5',\n",
       " 'g153a-2': 'F5',\n",
       " 'h315r-1': 'A7',\n",
       " 'h315r-3': 'C7',\n",
       " 'n163s-1': 'B2',\n",
       " 'n163s-3': 'D2',\n",
       " 'q19p-1': 'H2',\n",
       " 'q19p-3': 'B3',\n",
       " 's32l-1': 'C3',\n",
       " 'v320q-1': 'F3',\n",
       " 'v320q-2': 'G3',\n",
       " 'w407k-2': 'D6',\n",
       " 'w407y-1': 'E2',\n",
       " 'w407y-2': 'F2',\n",
       " 'y294l-1': 'D4'}"
      ]
     },
     "execution_count": 2,
     "metadata": {},
     "output_type": "execute_result"
    }
   ],
   "source": [
    "picks"
   ]
  },
  {
   "cell_type": "code",
   "execution_count": null,
   "metadata": {
    "collapsed": true
   },
   "outputs": [],
   "source": []
  }
 ],
 "metadata": {
  "kernelspec": {
   "display_name": "Python 2",
   "language": "python",
   "name": "python2"
  },
  "language_info": {
   "codemirror_mode": {
    "name": "ipython",
    "version": 2
   },
   "file_extension": ".py",
   "mimetype": "text/x-python",
   "name": "python",
   "nbconvert_exporter": "python",
   "pygments_lexer": "ipython2",
   "version": "2.7.10"
  }
 },
 "nbformat": 4,
 "nbformat_minor": 0
}
