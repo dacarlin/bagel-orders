{
 "cells": [
  {
   "cell_type": "code",
   "execution_count": null,
   "metadata": {
    "collapsed": true
   },
   "outputs": [],
   "source": [
    "# extras, new \n",
    "my_muts = "
   ]
  },
  {
   "cell_type": "code",
   "execution_count": 5,
   "metadata": {
    "collapsed": false
   },
   "outputs": [
    {
     "name": "stdout",
     "output_type": "stream",
     "text": [
      "generated CSV for 20 mutants\n"
     ]
    }
   ],
   "source": [
    "import pandas \n",
    "from skbio import TabularMSA, DNA\n",
    "\n",
    "with open( 'raw_collect.txt' ) as fn:\n",
    "    raw = fn.read().split()\n",
    "r = pandas.read_csv( '/Users/alex/Documents/bagel-main/roster/current_roster.csv' ) \n",
    "oligos = TabularMSA.read( '../../../../oligo_design/my_oligos.fa', constructor=DNA )\n",
    "seq_dict = { i.metadata[ 'id' ]: str(i) for i in oligos } \n",
    "#our = list( r.mutant ) + list( my_muts ) \n",
    "our = list( r.mutant ) \n",
    "n_muts = 0\n",
    "\n",
    "with open( 'my_csv.csv', 'w' ) as fn:\n",
    "    fn.write( 'mutant_label,oligo_label,sequence,scale,purification\\n' )\n",
    "    for m in raw:\n",
    "        if m not in our:\n",
    "            if m in seq_dict.keys():\n",
    "                my_seq = seq_dict[ m ] \n",
    "                my_str = '{0},{0},{1},25nm,standard\\n'\n",
    "                our.append( m ) \n",
    "                fn.write( my_str.format( m, my_seq ) )\n",
    "                n_muts += 1 \n",
    "\n",
    "print( 'generated CSV for {} mutants'.format( n_muts ) )"
   ]
  },
  {
   "cell_type": "code",
   "execution_count": 6,
   "metadata": {
    "collapsed": false
   },
   "outputs": [
    {
     "name": "stdout",
     "output_type": "stream",
     "text": [
      "mutant_label,oligo_label,sequence,scale,purification\r\n",
      "N354D,N354D,ACGCATTGCTGCACCATCTTCGGTAATCAGGAT,25nm,standard\r\n",
      "Y375W,Y375W,CAGATGTTCTTCAATCCAACCATGACGACCGGT,25nm,standard\r\n",
      "T321R,T321R,TTCCCAACCCATATCACGAACCGGTTCTTCCAT,25nm,standard\r\n",
      "N354Q,N354Q,ACGCATTGCTGCACCCTGTTCGGTAATCAGGAT,25nm,standard\r\n",
      "K43R,K43R,ATCACCACCAATAACACGACCCGGAATCTGACA,25nm,standard\r\n",
      "A408W,A408W,TTTGCTATAACCCCACCACCATTCAAAGTTATC,25nm,standard\r\n",
      "P165T,P165T,AATGCTTGCACAATAGGTTTCATTGATGGTGTT,25nm,standard\r\n",
      "R76K,R76K,CCATGCAACGCTAAATTTATAATGCAGAAAACC,25nm,standard\r\n",
      "T175W,T175W,CGGTGCATGTTCACCCCAGCCATAACCCAGAAT,25nm,standard\r\n",
      "M323C,M323C,ATGAATTTCCCAACCGCAATCGGTAACCGGTTC,25nm,standard\r\n",
      "Y144N,Y144N,CATGATAACGCTGGCGTTGGTTTTGAAATGCTG,25nm,standard\r\n",
      "W409F,W409F,ACGTTTGCTATAACCAAATGCCCATTCAAAGTT,25nm,standard\r\n",
      "Y118W,Y118W,CGGCAGATCCCAATGCCACAGGGTCAGCATCGG,25nm,standard\r\n",
      "D360N,D360N,ACCATTAACCAGTTCGTTACGCATTGCTGCACC,25nm,standard\r\n",
      "L402I,L402I,CCATTCAAAGTTATCAATAAAGCTCCAAACAAA,25nm,standard\r\n",
      "D121H,D121H,AATCCACTGCGGCAGATGCCAATGATACAGGGT,25nm,standard\r\n",
      "W120M,W120M,CCACTGCGGCAGATCCATATGATACAGGGTCAG,25nm,standard\r\n",
      "S17G,S17G,ACCTTCAATCTGATAGCCGCTGGTGCTGGTGCC,25nm,standard\r\n",
      "T116S,T116S,ATCCCAATGATACAGGCTCAGCATCGGAATCAG,25nm,standard\r\n",
      "K413N,K413N,GACAATACCAAAACGGTTGCTATAACCCCATGC,25nm,standard\r\n"
     ]
    }
   ],
   "source": [
    "! cat my_csv.csv"
   ]
  },
  {
   "cell_type": "code",
   "execution_count": null,
   "metadata": {
    "collapsed": true
   },
   "outputs": [],
   "source": []
  }
 ],
 "metadata": {
  "anaconda-cloud": {},
  "kernelspec": {
   "display_name": "Python [conda root]",
   "language": "python",
   "name": "conda-root-py"
  },
  "language_info": {
   "codemirror_mode": {
    "name": "ipython",
    "version": 3
   },
   "file_extension": ".py",
   "mimetype": "text/x-python",
   "name": "python",
   "nbconvert_exporter": "python",
   "pygments_lexer": "ipython3",
   "version": "3.5.2"
  }
 },
 "nbformat": 4,
 "nbformat_minor": 0
}
