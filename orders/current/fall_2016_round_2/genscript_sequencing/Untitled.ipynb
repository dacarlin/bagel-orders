{
 "cells": [
  {
   "cell_type": "code",
   "execution_count": 13,
   "metadata": {
    "collapsed": true
   },
   "outputs": [],
   "source": [
    "! cp /Users/alex/Documents/bagel-data/allowed_mutants.txt . "
   ]
  },
  {
   "cell_type": "code",
   "execution_count": 23,
   "metadata": {
    "collapsed": true
   },
   "outputs": [],
   "source": [
    "# enter your params\n",
    "\n",
    "read_dir = '191641_dna_seq_rep_9025003_zip'\n",
    "wt_pep = '../../../../oligo_design/bglb_model.fa'\n",
    "allowed_mutants = 'allowed_mutants.txt' \n",
    "sample_list = []"
   ]
  },
  {
   "cell_type": "code",
   "execution_count": 24,
   "metadata": {
    "collapsed": false
   },
   "outputs": [],
   "source": [
    "# convert all the reads to FASTQ\n",
    "\n",
    "from Bio import SeqIO\n",
    "from glob import glob \n",
    "\n",
    "for read in glob( '{}/*ab1'.format( read_dir ) ):\n",
    "    SeqIO.convert( read, 'abi', read.replace( 'ab1', 'fastq' ), 'fastq' )"
   ]
  },
  {
   "cell_type": "code",
   "execution_count": 25,
   "metadata": {
    "collapsed": false
   },
   "outputs": [],
   "source": [
    "#! ls 191641_dna_seq_rep_9025003_zip\n",
    "! ( ls 191641_dna_seq_rep_9025003_zip | cut -d_ -f3 | sort -u ) > sample_list.txt"
   ]
  },
  {
   "cell_type": "code",
   "execution_count": 26,
   "metadata": {
    "collapsed": false
   },
   "outputs": [],
   "source": [
    "# read from file \n",
    "\n",
    "my_sample_list_file = 'sample_list.txt'\n",
    "\n",
    "with open( my_sample_list_file ) as fn:\n",
    "    sample_list = fn.read().split()\n",
    "\n",
    "# try get a ist of the samples if we don't already have that \n",
    "\n",
    "# if not sample_list:\n",
    "#     my_glob = '{}/*fastq'\n",
    "#     print 'No sample list, attempting to find one with the glob \"{}\"'.format( my_glob ) \n",
    "#     my_files = glob( my_glob.format( read_dir ) )\n",
    "#     #my_samples = map( lambda x: x.split( '/' )[1].split( '_' )[2], my_files ) \n",
    "#     sample_list = [ x.split( '/' )[1].split( '_' )[2] for x in my_files ] \n",
    "#     print sample_list "
   ]
  },
  {
   "cell_type": "code",
   "execution_count": 27,
   "metadata": {
    "collapsed": false
   },
   "outputs": [
    {
     "name": "stdout",
     "output_type": "stream",
     "text": [
      "['A306N-1', 'A306N-1.assembled.fasta', 'A306N-1.assembled.fastq', 'A306N-1.discarded.fastq', 'A306N-1.unassembled.forward.fastq', 'A306N-1.unassembled.reverse.fastq', 'A306N-2', 'A306N-2.assembled.fasta', 'A306N-2.assembled.fastq', 'A306N-2.discarded.fastq', 'A306N-2.unassembled.forward.fastq', 'A306N-2.unassembled.reverse.fastq', 'A306N-3', 'A306N-3.assembled.fasta', 'A306N-3.assembled.fastq', 'A306N-3.discarded.fastq', 'A306N-3.unassembled.forward.fastq', 'A306N-3.unassembled.reverse.fastq', 'E406V-1', 'E406V-1.assembled.fasta', 'E406V-1.assembled.fastq', 'E406V-1.discarded.fastq', 'E406V-1.unassembled.forward.fastq', 'E406V-1.unassembled.reverse.fastq', 'E406V-2', 'E406V-2.assembled.fasta', 'E406V-2.assembled.fastq', 'E406V-2.discarded.fastq', 'E406V-2.unassembled.forward.fastq', 'E406V-2.unassembled.reverse.fastq', 'E406V-3', 'E406V-3.assembled.fasta', 'E406V-3.assembled.fastq', 'E406V-3.discarded.fastq', 'E406V-3.unassembled.forward.fastq', 'E406V-3.unassembled.reverse.fastq', 'H119Q-1', 'H119Q-1.assembled.fasta', 'H119Q-1.assembled.fastq', 'H119Q-1.discarded.fastq', 'H119Q-1.unassembled.forward.fastq', 'H119Q-1.unassembled.reverse.fastq', 'H119Q-2', 'H119Q-2.assembled.fasta', 'H119Q-2.assembled.fastq', 'H119Q-2.discarded.fastq', 'H119Q-2.unassembled.forward.fastq', 'H119Q-2.unassembled.reverse.fastq', 'H119Q-3', 'H119Q-3.assembled.fasta', 'H119Q-3.assembled.fastq', 'H119Q-3.discarded.fastq', 'H119Q-3.unassembled.forward.fastq', 'H119Q-3.unassembled.reverse.fastq', 'H178C-1', 'H178C-1.assembled.fasta', 'H178C-1.assembled.fastq', 'H178C-1.discarded.fastq', 'H178C-1.unassembled.forward.fastq', 'H178C-1.unassembled.reverse.fastq', 'H178C-2', 'H178C-2.assembled.fasta', 'H178C-2.assembled.fastq', 'H178C-2.discarded.fastq', 'H178C-2.unassembled.forward.fastq', 'H178C-2.unassembled.reverse.fastq', 'H178C-3', 'H178C-3.assembled.fasta', 'H178C-3.assembled.fastq', 'H178C-3.discarded.fastq', 'H178C-3.unassembled.forward.fastq', 'H178C-3.unassembled.reverse.fastq', 'H178W-1', 'H178W-1.assembled.fasta', 'H178W-1.assembled.fastq', 'H178W-1.discarded.fastq', 'H178W-1.unassembled.forward.fastq', 'H178W-1.unassembled.reverse.fastq', 'H178W-2', 'H178W-2.assembled.fasta', 'H178W-2.assembled.fastq', 'H178W-2.discarded.fastq', 'H178W-2.unassembled.forward.fastq', 'H178W-2.unassembled.reverse.fastq', 'H178W-3', 'H178W-3.assembled.fasta', 'H178W-3.assembled.fastq', 'H178W-3.discarded.fastq', 'H178W-3.unassembled.forward.fastq', 'H178W-3.unassembled.reverse.fastq', 'H328N-1', 'H328N-1.assembled.fasta', 'H328N-1.assembled.fastq', 'H328N-1.discarded.fastq', 'H328N-1.unassembled.forward.fastq', 'H328N-1.unassembled.reverse.fastq', 'H328N-2', 'H328N-2.assembled.fasta', 'H328N-2.assembled.fastq', 'H328N-2.discarded.fastq', 'H328N-2.unassembled.forward.fastq', 'H328N-2.unassembled.reverse.fastq', 'H328N-3', 'H328N-3.assembled.fasta', 'H328N-3.assembled.fastq', 'H328N-3.discarded.fastq', 'H328N-3.unassembled.forward.fastq', 'H328N-3.unassembled.reverse.fastq', 'I20C-1', 'I20C-1.assembled.fasta', 'I20C-1.assembled.fastq', 'I20C-1.discarded.fastq', 'I20C-1.unassembled.forward.fastq', 'I20C-1.unassembled.reverse.fastq', 'I20C-2', 'I20C-2.assembled.fasta', 'I20C-2.assembled.fastq', 'I20C-2.discarded.fastq', 'I20C-2.unassembled.forward.fastq', 'I20C-2.unassembled.reverse.fastq', 'I20C-3', 'I20C-3.assembled.fasta', 'I20C-3.assembled.fastq', 'I20C-3.discarded.fastq', 'I20C-3.unassembled.forward.fastq', 'I20C-3.unassembled.reverse.fastq', 'L171N-1', 'L171N-1.assembled.fasta', 'L171N-1.assembled.fastq', 'L171N-1.discarded.fastq', 'L171N-1.unassembled.forward.fastq', 'L171N-1.unassembled.reverse.fastq', 'L171N-2', 'L171N-2.assembled.fasta', 'L171N-2.assembled.fastq', 'L171N-2.discarded.fastq', 'L171N-2.unassembled.forward.fastq', 'L171N-2.unassembled.reverse.fastq', 'L171N-3', 'L171N-3.assembled.fasta', 'L171N-3.assembled.fastq', 'L171N-3.discarded.fastq', 'L171N-3.unassembled.forward.fastq', 'L171N-3.unassembled.reverse.fastq', 'M10Q-1', 'M10Q-1.assembled.fasta', 'M10Q-1.assembled.fastq', 'M10Q-1.discarded.fastq', 'M10Q-1.unassembled.forward.fastq', 'M10Q-1.unassembled.reverse.fastq', 'M10Q-2', 'M10Q-2.assembled.fasta', 'M10Q-2.assembled.fastq', 'M10Q-2.discarded.fastq', 'M10Q-2.unassembled.forward.fastq', 'M10Q-2.unassembled.reverse.fastq', 'M10Q-3', 'M10Q-3.assembled.fasta', 'M10Q-3.assembled.fastq', 'M10Q-3.discarded.fastq', 'M10Q-3.unassembled.forward.fastq', 'M10Q-3.unassembled.reverse.fastq', 'N293Y-1', 'N293Y-1.assembled.fasta', 'N293Y-1.assembled.fastq', 'N293Y-1.discarded.fastq', 'N293Y-1.unassembled.forward.fastq', 'N293Y-1.unassembled.reverse.fastq', 'N293Y-2', 'N293Y-2.assembled.fasta', 'N293Y-2.assembled.fastq', 'N293Y-2.discarded.fastq', 'N293Y-2.unassembled.forward.fastq', 'N293Y-2.unassembled.reverse.fastq', 'N293Y-3', 'N293Y-3.assembled.fasta', 'N293Y-3.assembled.fastq', 'N293Y-3.discarded.fastq', 'N293Y-3.unassembled.forward.fastq', 'N293Y-3.unassembled.reverse.fastq', 'T175H-1', 'T175H-1.assembled.fasta', 'T175H-1.assembled.fastq', 'T175H-1.discarded.fastq', 'T175H-1.unassembled.forward.fastq', 'T175H-1.unassembled.reverse.fastq', 'T175H-2', 'T175H-2.assembled.fasta', 'T175H-2.assembled.fastq', 'T175H-2.discarded.fastq', 'T175H-2.unassembled.forward.fastq', 'T175H-2.unassembled.reverse.fastq', 'T175H-3', 'T175H-3.assembled.fasta', 'T175H-3.assembled.fastq', 'T175H-3.discarded.fastq', 'T175H-3.unassembled.forward.fastq', 'T175H-3.unassembled.reverse.fastq', 'T352V-1', 'T352V-1.assembled.fasta', 'T352V-1.assembled.fastq', 'T352V-1.discarded.fastq', 'T352V-1.unassembled.forward.fastq', 'T352V-1.unassembled.reverse.fastq', 'T352V-2', 'T352V-2.assembled.fasta', 'T352V-2.assembled.fastq', 'T352V-2.discarded.fastq', 'T352V-2.unassembled.forward.fastq', 'T352V-2.unassembled.reverse.fastq', 'T352V-3', 'T352V-3.assembled.fasta', 'T352V-3.assembled.fastq', 'T352V-3.discarded.fastq', 'T352V-3.unassembled.forward.fastq', 'T352V-3.unassembled.reverse.fastq', 'W120N-1', 'W120N-1.assembled.fasta', 'W120N-1.assembled.fastq', 'W120N-1.discarded.fastq', 'W120N-1.unassembled.forward.fastq', 'W120N-1.unassembled.reverse.fastq', 'W120N-2', 'W120N-2.assembled.fasta', 'W120N-2.assembled.fastq', 'W120N-2.discarded.fastq', 'W120N-2.unassembled.forward.fastq', 'W120N-2.unassembled.reverse.fastq', 'W120N-3', 'W120N-3.assembled.fasta', 'W120N-3.assembled.fastq', 'W120N-3.discarded.fastq', 'W120N-3.unassembled.forward.fastq', 'W120N-3.unassembled.reverse.fastq', 'Y118F-1', 'Y118F-1.assembled.fasta', 'Y118F-1.assembled.fastq', 'Y118F-1.discarded.fastq', 'Y118F-1.unassembled.forward.fastq', 'Y118F-1.unassembled.reverse.fastq', 'Y118F-2', 'Y118F-2.assembled.fasta', 'Y118F-2.assembled.fastq', 'Y118F-2.discarded.fastq', 'Y118F-2.unassembled.forward.fastq', 'Y118F-2.unassembled.reverse.fastq', 'Y118F-3', 'Y118F-3.assembled.fasta', 'Y118F-3.assembled.fastq', 'Y118F-3.discarded.fastq', 'Y118F-3.unassembled.forward.fastq', 'Y118F-3.unassembled.reverse.fastq', 'Y166K-1', 'Y166K-1.assembled.fasta', 'Y166K-1.assembled.fastq', 'Y166K-1.discarded.fastq', 'Y166K-1.unassembled.forward.fastq', 'Y166K-1.unassembled.reverse.fastq', 'Y166K-2', 'Y166K-2.assembled.fasta', 'Y166K-2.assembled.fastq', 'Y166K-2.discarded.fastq', 'Y166K-2.unassembled.forward.fastq', 'Y166K-2.unassembled.reverse.fastq', 'Y166K-3', 'Y166K-3.assembled.fasta', 'Y166K-3.assembled.fastq', 'Y166K-3.discarded.fastq', 'Y166K-3.unassembled.forward.fastq', 'Y166K-3.unassembled.reverse.fastq', 'Y295N-1', 'Y295N-1.assembled.fasta', 'Y295N-1.assembled.fastq', 'Y295N-1.discarded.fastq', 'Y295N-1.unassembled.forward.fastq', 'Y295N-1.unassembled.reverse.fastq', 'Y295N-2', 'Y295N-2.assembled.fasta', 'Y295N-2.assembled.fastq', 'Y295N-2.discarded.fastq', 'Y295N-2.unassembled.forward.fastq', 'Y295N-2.unassembled.reverse.fastq', 'Y295N-3', 'Y295N-3.assembled.fasta', 'Y295N-3.assembled.fastq', 'Y295N-3.discarded.fastq', 'Y295N-3.unassembled.forward.fastq', 'Y295N-3.unassembled.reverse.fastq']\n"
     ]
    }
   ],
   "source": [
    "print( sample_list )"
   ]
  },
  {
   "cell_type": "code",
   "execution_count": 28,
   "metadata": {
    "collapsed": false,
    "scrolled": false
   },
   "outputs": [],
   "source": [
    "# pair and merge the reads \n",
    "\n",
    "from subprocess import call, check_output\n",
    "\n",
    "expect = 0\n",
    "for sample in sample_list:\n",
    "    #genscript\n",
    "    fwd = glob( '{}/*_{}_T7.fastq'.format( read_dir, sample ) ) \n",
    "    rev = glob( '{}/*_{}_T7-Ter.fastq'.format( read_dir, sample ) )\n",
    "    #print( len(fwd), len(rev) )\n",
    "    \n",
    "    #operon \n",
    "#     fwd = glob( '{}/{}_T7_*.fastq'.format( read_dir, sample ) ) \n",
    "#     rev = glob( '{}/{}_T7term_*.fastq'.format( read_dir, sample ) )\n",
    "#     print len( fwd ), len( rev )\n",
    "\n",
    "    if len( fwd ) == len( rev ) == 1:\n",
    "        pear_opts = [ '-e', '2' ] \n",
    "        cmd = [ 'pear', '-f', fwd[0], '-r', rev[0], '-o', '{}/{}'.format( read_dir, sample ) ] + pear_opts\n",
    "        call( cmd )\n",
    "        expect += 1 "
   ]
  },
  {
   "cell_type": "code",
   "execution_count": 29,
   "metadata": {
    "collapsed": false
   },
   "outputs": [],
   "source": [
    "# convert all the assemblies to FASTA\n",
    "\n",
    "for assembly in glob( '{}/*.assembled.fastq'.format( read_dir ) ):\n",
    "    SeqIO.convert( assembly, 'fastq', assembly.replace( 'fastq', 'fasta' ), 'fasta' )"
   ]
  },
  {
   "cell_type": "code",
   "execution_count": 30,
   "metadata": {
    "collapsed": false
   },
   "outputs": [],
   "source": [
    "# load in allowed mutants for error checking \n",
    "\n",
    "with open( allowed_mutants ) as fn:\n",
    "    allowed_mutants = [ i.strip() for i in fn.readlines() if len(i) > 1 ] "
   ]
  },
  {
   "cell_type": "code",
   "execution_count": 51,
   "metadata": {
    "collapsed": false,
    "scrolled": false
   },
   "outputs": [
    {
     "name": "stdout",
     "output_type": "stream",
     "text": [
      "191641_dna_seq_rep_9025003_zip/A306N-1 \tN184K+W185L+R186P+E187*+A188S+F189I+T190Y+A191R+H193P+H194S+I195F+L196S+M197K+C198V+H199S+G200C+I201Y+A202G+S203K+N204H+L205P+H206P+K207*+E208K+G210N+L211V+T212*+G213A+K214E+I215N+G216V+I217A+T218S+L219P+N220S+D225Y+A226T+R230H+A306T\n",
      "191641_dna_seq_rep_9025003_zip/A306N-2 \tA306N\n",
      "191641_dna_seq_rep_9025003_zip/A306N-3 \tA306N\n",
      "191641_dna_seq_rep_9025003_zip/E406V-1 \tA7V+N204Q+L205P+H206A+K207*+E208G+G210S+L211S+T212A+G213R+G216C+I217L+T218S+L219P+N220D+M221Y+H223P+V224C+D225G+A227T+R230P+P231S+V234G+A235S+I244Y+N245H+A249S+Y257F+V262G+G324C+E406V\n",
      "191641_dna_seq_rep_9025003_zip/E406V-2 \tE406V\n",
      "191641_dna_seq_rep_9025003_zip/E406V-3 \tF248V+E406V\n",
      "191641_dna_seq_rep_9025003_zip/H119Q-1 \twild type\n",
      "191641_dna_seq_rep_9025003_zip/H119Q-2 \tH119Q\n",
      "191641_dna_seq_rep_9025003_zip/H119Q-3 \twild type\n",
      "191641_dna_seq_rep_9025003_zip/H178C-1 \tH178C\n",
      "191641_dna_seq_rep_9025003_zip/H178C-2 \tT143S+H178C\n",
      "191641_dna_seq_rep_9025003_zip/H178C-3 \tH178C\n",
      "191641_dna_seq_rep_9025003_zip/H178W-2 \tH178W\n",
      "191641_dna_seq_rep_9025003_zip/H178W-3 \twild type\n",
      "191641_dna_seq_rep_9025003_zip/H328N-2 \tH328N\n",
      "191641_dna_seq_rep_9025003_zip/H328N-3 \tP113S+G210V+L211R+G216A+I217F+T218P+N220I+E222N+H223K+V224L+D225K+A226Q+A227Q+S228G+E229N+R230L+E232K+D233M+V234L+A236Q+A237Q+I238F+R239L+R240L+D241M+F243L+I244S\n",
      "191641_dna_seq_rep_9025003_zip/I20C-1 \tI20C\n",
      "191641_dna_seq_rep_9025003_zip/I20C-2 \twild type\n",
      "191641_dna_seq_rep_9025003_zip/I20C-3 \tI20C\n",
      "191641_dna_seq_rep_9025003_zip/L171N-1 \tW185L\n",
      "191641_dna_seq_rep_9025003_zip/L171N-2 \tL171N+L205P+H206A+K207*+E208R+G210D+L211V+G216V+N220S+M221I+E222G+R230H\n",
      "191641_dna_seq_rep_9025003_zip/L171N-3 \twild type\n",
      "191641_dna_seq_rep_9025003_zip/M10Q-1 \tM10Q\n",
      "191641_dna_seq_rep_9025003_zip/M10Q-2 \tM10Q\n",
      "191641_dna_seq_rep_9025003_zip/M10Q-3 \tM10Q\n",
      "191641_dna_seq_rep_9025003_zip/N293Y-1 \tN293Y\n",
      "191641_dna_seq_rep_9025003_zip/N293Y-2 \tN293Y\n",
      "191641_dna_seq_rep_9025003_zip/N293Y-3 \tT175P+W185C+N293Y\n",
      "191641_dna_seq_rep_9025003_zip/T175H-1 \tT175H+V275F\n",
      "191641_dna_seq_rep_9025003_zip/T175H-2 \tT175H\n",
      "191641_dna_seq_rep_9025003_zip/T175H-3 \tT175H\n",
      "191641_dna_seq_rep_9025003_zip/T352V-2 \twild type\n",
      "191641_dna_seq_rep_9025003_zip/T352V-3 \tM221*+K381I\n",
      "191641_dna_seq_rep_9025003_zip/W120N-1 \tW120N\n",
      "191641_dna_seq_rep_9025003_zip/W120N-2 \tW120N+R155G+T161P+L219R+R230L\n",
      "191641_dna_seq_rep_9025003_zip/W120N-3 \tW120N\n",
      "191641_dna_seq_rep_9025003_zip/Y118F-2 \tY118F+D225E+S228R+E229Q+D233E+V234G+A235S+A236P+D241*\n",
      "191641_dna_seq_rep_9025003_zip/Y118F-3 \tR14P+I22N+I28F+N29T\n",
      "191641_dna_seq_rep_9025003_zip/Y166K-1 \tF3L+I4N+Y166K\n",
      "191641_dna_seq_rep_9025003_zip/Y166K-2 \tP41L\n",
      "191641_dna_seq_rep_9025003_zip/Y166K-3 \twild type\n",
      "191641_dna_seq_rep_9025003_zip/Y295N-1 \tY295W\n",
      "191641_dna_seq_rep_9025003_zip/Y295N-2 \tY295W\n",
      "191641_dna_seq_rep_9025003_zip/Y295N-3 \tY295W\n"
     ]
    }
   ],
   "source": [
    "# diff the assemblies against the wild type protein sequence \n",
    "\n",
    "singles = []\n",
    "for assembly in glob( '{}/*.assembled.fasta'.format( read_dir ) ):\n",
    "    name = assembly.split( '.' )[0] \n",
    "    lines = check_output( [ 'blastx', '-subject', wt_pep, '-query', assembly, '-outfmt', '6 sseq qseq length' ] ).split()\n",
    "    if lines and lines[0] and lines[1] and lines[2]:        \n",
    "        z = zip( str( lines[0] ), str( lines[1] ) )\n",
    "        d = [ '{}{}{}'.format( i, n-1, j ) for n, ( i, j ) in enumerate( z ) if i != j ]\n",
    "        dstr = '+'.join( d )\n",
    "        # coded responses \n",
    "        if len( d ) == 0: \n",
    "            print( name, '\\twild type' )\n",
    "        elif len( d ) == 1:\n",
    "            if d[0] in allowed_mutants:\n",
    "                print( name, '\\t{}'.format( dstr ) )\n",
    "                singles.append( ( d[0], name ) )\n",
    "            else:\n",
    "                print( name, '\\t{}'.format( dstr ) )\n",
    "                #print( name, '\\tbad alignment' )\n",
    "        elif len( d ) > 1:\n",
    "            #print name, '\\t... ({} mutations)'.format( len( d ) ) \n",
    "            print( name, '\\t{}'.format( dstr ) )"
   ]
  },
  {
   "cell_type": "code",
   "execution_count": 52,
   "metadata": {
    "collapsed": false
   },
   "outputs": [
    {
     "data": {
      "text/plain": [
       "[('A306N', '191641_dna_seq_rep_9025003_zip/A306N-2'),\n",
       " ('A306N', '191641_dna_seq_rep_9025003_zip/A306N-3'),\n",
       " ('E406V', '191641_dna_seq_rep_9025003_zip/E406V-2'),\n",
       " ('H119Q', '191641_dna_seq_rep_9025003_zip/H119Q-2'),\n",
       " ('H178C', '191641_dna_seq_rep_9025003_zip/H178C-1'),\n",
       " ('H178C', '191641_dna_seq_rep_9025003_zip/H178C-3'),\n",
       " ('H178W', '191641_dna_seq_rep_9025003_zip/H178W-2'),\n",
       " ('H328N', '191641_dna_seq_rep_9025003_zip/H328N-2'),\n",
       " ('I20C', '191641_dna_seq_rep_9025003_zip/I20C-1'),\n",
       " ('I20C', '191641_dna_seq_rep_9025003_zip/I20C-3'),\n",
       " ('W185L', '191641_dna_seq_rep_9025003_zip/L171N-1'),\n",
       " ('M10Q', '191641_dna_seq_rep_9025003_zip/M10Q-1'),\n",
       " ('M10Q', '191641_dna_seq_rep_9025003_zip/M10Q-2'),\n",
       " ('M10Q', '191641_dna_seq_rep_9025003_zip/M10Q-3'),\n",
       " ('N293Y', '191641_dna_seq_rep_9025003_zip/N293Y-1'),\n",
       " ('N293Y', '191641_dna_seq_rep_9025003_zip/N293Y-2'),\n",
       " ('T175H', '191641_dna_seq_rep_9025003_zip/T175H-2'),\n",
       " ('T175H', '191641_dna_seq_rep_9025003_zip/T175H-3'),\n",
       " ('W120N', '191641_dna_seq_rep_9025003_zip/W120N-1'),\n",
       " ('W120N', '191641_dna_seq_rep_9025003_zip/W120N-3'),\n",
       " ('P41L', '191641_dna_seq_rep_9025003_zip/Y166K-2'),\n",
       " ('Y295W', '191641_dna_seq_rep_9025003_zip/Y295N-1'),\n",
       " ('Y295W', '191641_dna_seq_rep_9025003_zip/Y295N-2'),\n",
       " ('Y295W', '191641_dna_seq_rep_9025003_zip/Y295N-3')]"
      ]
     },
     "execution_count": 52,
     "metadata": {},
     "output_type": "execute_result"
    }
   ],
   "source": [
    "singles"
   ]
  },
  {
   "cell_type": "code",
   "execution_count": 53,
   "metadata": {
    "collapsed": false
   },
   "outputs": [
    {
     "data": {
      "text/plain": [
       "{'A306N': '191641_dna_seq_rep_9025003_zip/A306N-3',\n",
       " 'E406V': '191641_dna_seq_rep_9025003_zip/E406V-2',\n",
       " 'H119Q': '191641_dna_seq_rep_9025003_zip/H119Q-2',\n",
       " 'H178C': '191641_dna_seq_rep_9025003_zip/H178C-3',\n",
       " 'H178W': '191641_dna_seq_rep_9025003_zip/H178W-2',\n",
       " 'H328N': '191641_dna_seq_rep_9025003_zip/H328N-2',\n",
       " 'I20C': '191641_dna_seq_rep_9025003_zip/I20C-3',\n",
       " 'M10Q': '191641_dna_seq_rep_9025003_zip/M10Q-3',\n",
       " 'N293Y': '191641_dna_seq_rep_9025003_zip/N293Y-2',\n",
       " 'P41L': '191641_dna_seq_rep_9025003_zip/Y166K-2',\n",
       " 'T175H': '191641_dna_seq_rep_9025003_zip/T175H-3',\n",
       " 'W120N': '191641_dna_seq_rep_9025003_zip/W120N-3',\n",
       " 'W185L': '191641_dna_seq_rep_9025003_zip/L171N-1',\n",
       " 'Y295W': '191641_dna_seq_rep_9025003_zip/Y295N-3'}"
      ]
     },
     "execution_count": 53,
     "metadata": {},
     "output_type": "execute_result"
    }
   ],
   "source": [
    "dict( singles ) "
   ]
  },
  {
   "cell_type": "code",
   "execution_count": 55,
   "metadata": {
    "collapsed": false
   },
   "outputs": [
    {
     "name": "stdout",
     "output_type": "stream",
     "text": [
      "Found 14 of 48 expected mutants\n"
     ]
    }
   ],
   "source": [
    "# results \n",
    "\n",
    "picks = dict( singles ) \n",
    "l = len( picks ) \n",
    "print( 'Found {} of {} expected mutants'.format( l, expect ) )"
   ]
  },
  {
   "cell_type": "code",
   "execution_count": null,
   "metadata": {
    "collapsed": true
   },
   "outputs": [],
   "source": []
  }
 ],
 "metadata": {
  "anaconda-cloud": {},
  "kernelspec": {
   "display_name": "Python [conda root]",
   "language": "python",
   "name": "conda-root-py"
  },
  "language_info": {
   "codemirror_mode": {
    "name": "ipython",
    "version": 3
   },
   "file_extension": ".py",
   "mimetype": "text/x-python",
   "name": "python",
   "nbconvert_exporter": "python",
   "pygments_lexer": "ipython3",
   "version": "3.5.2"
  }
 },
 "nbformat": 4,
 "nbformat_minor": 0
}
