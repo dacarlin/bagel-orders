{
 "cells": [
  {
   "cell_type": "code",
   "execution_count": 1,
   "metadata": {
    "collapsed": true
   },
   "outputs": [],
   "source": [
    "# enter your params\n",
    "\n",
    "read_dir = '191641_dna_seq_rep_9025003_zip'\n",
    "wt_pep = '../../../oligo_design/bglb_model.fa'\n",
    "#allowed_mutants = 'allowed_mutants.txt' \n",
    "sample_list = []"
   ]
  },
  {
   "cell_type": "code",
   "execution_count": 2,
   "metadata": {
    "collapsed": false
   },
   "outputs": [
    {
     "ename": "ImportError",
     "evalue": "No module named 'Bio'",
     "output_type": "error",
     "traceback": [
      "\u001b[0;31m---------------------------------------------------------------------------\u001b[0m",
      "\u001b[0;31mImportError\u001b[0m                               Traceback (most recent call last)",
      "\u001b[0;32m<ipython-input-2-16d55be5ea09>\u001b[0m in \u001b[0;36m<module>\u001b[0;34m()\u001b[0m\n\u001b[1;32m      1\u001b[0m \u001b[0;31m# convert all the reads to FASTQ\u001b[0m\u001b[0;34m\u001b[0m\u001b[0;34m\u001b[0m\u001b[0m\n\u001b[1;32m      2\u001b[0m \u001b[0;34m\u001b[0m\u001b[0m\n\u001b[0;32m----> 3\u001b[0;31m \u001b[0;32mfrom\u001b[0m \u001b[0mBio\u001b[0m \u001b[0;32mimport\u001b[0m \u001b[0mSeqIO\u001b[0m\u001b[0;34m\u001b[0m\u001b[0m\n\u001b[0m\u001b[1;32m      4\u001b[0m \u001b[0;32mfrom\u001b[0m \u001b[0mglob\u001b[0m \u001b[0;32mimport\u001b[0m \u001b[0mglob\u001b[0m\u001b[0;34m\u001b[0m\u001b[0m\n\u001b[1;32m      5\u001b[0m \u001b[0;34m\u001b[0m\u001b[0m\n",
      "\u001b[0;31mImportError\u001b[0m: No module named 'Bio'"
     ]
    }
   ],
   "source": [
    "# convert all the reads to FASTQ\n",
    "\n",
    "from Bio import SeqIO\n",
    "from glob import glob \n",
    "\n",
    "for read in glob( '{}/*ab1'.format( read_dir ) ):\n",
    "    SeqIO.convert( read, 'abi', read.replace( 'ab1', 'fastq' ), 'fastq' )"
   ]
  },
  {
   "cell_type": "code",
   "execution_count": 29,
   "metadata": {
    "collapsed": false
   },
   "outputs": [],
   "source": [
    "# read from file \n",
    "\n",
    "my_sample_list_file = 'my_samples.txt'\n",
    "\n",
    "with open( my_sample_list_file ) as fn:\n",
    "    sample_list = fn.read().split()\n",
    "\n",
    "# try get a ist of the samples if we don't already have that \n",
    "\n",
    "# if not sample_list:\n",
    "#     my_glob = '{}/*fastq'\n",
    "#     print 'No sample list, attempting to find one with the glob \"{}\"'.format( my_glob ) \n",
    "#     my_files = glob( my_glob.format( read_dir ) )\n",
    "#     #my_samples = map( lambda x: x.split( '/' )[1].split( '_' )[2], my_files ) \n",
    "#     sample_list = [ x.split( '/' )[1].split( '_' )[2] for x in my_files ] \n",
    "#     print sample_list "
   ]
  },
  {
   "cell_type": "code",
   "execution_count": 30,
   "metadata": {
    "collapsed": false
   },
   "outputs": [
    {
     "name": "stdout",
     "output_type": "stream",
     "text": [
      "['sample_1-1', 'sample_1-2', 'sample_1-3', 'sample_10-1', 'sample_10-2', 'sample_10-3', 'sample_11-1', 'sample_11-2', 'sample_11-3', 'sample_2-1', 'sample_2-2', 'sample_2-3', 'sample_3-1', 'sample_3-2', 'sample_3-3', 'sample_4-1', 'sample_4-2', 'sample_4-3', 'sample_5-1', 'sample_5-2', 'sample_5-3', 'sample_6-1', 'sample_6-2', 'sample_6-3', 'sample_8-1', 'sample_8-2', 'sample_8-3', 'sample_9-1', 'sample_9-2', 'sample_9-3']\n"
     ]
    }
   ],
   "source": [
    "print sample_list"
   ]
  },
  {
   "cell_type": "code",
   "execution_count": 35,
   "metadata": {
    "collapsed": false,
    "scrolled": false
   },
   "outputs": [
    {
     "name": "stdout",
     "output_type": "stream",
     "text": [
      "1 1\n",
      "1 1\n",
      "1 1\n",
      "1 1\n",
      "1 1\n",
      "1 1\n",
      "1 1\n",
      "1 1\n",
      "1 1\n",
      "1 1\n",
      "1 1\n",
      "1 1\n",
      "1 1\n",
      "1 1\n",
      "1 1\n",
      "1 1\n",
      "1 1\n",
      "1 1\n",
      "1 1\n",
      "1 1\n",
      "1 1\n",
      "1 1\n",
      "1 1\n",
      "1 1\n",
      "1 1\n",
      "1 1\n",
      "1 1\n",
      "1 1\n",
      "1 1\n",
      "1 1\n"
     ]
    }
   ],
   "source": [
    "# pair and merge the reads \n",
    "\n",
    "from subprocess import call, check_output\n",
    "\n",
    "expect = 0\n",
    "for sample in sample_list:\n",
    "    #genscript\n",
    "#     fwd = glob( '{}/*_{}_T7.fastq'.format( read_dir, sample ) ) \n",
    "#     rev = glob( '{}/*_{}_T7-Ter.fastq'.format( read_dir, sample ) )\n",
    "#     print len(fwd), len(rev)\n",
    "    #operon \n",
    "    fwd = glob( '{}/{}_T7_*.fastq'.format( read_dir, sample ) ) \n",
    "    rev = glob( '{}/{}_T7term_*.fastq'.format( read_dir, sample ) )\n",
    "    print len( fwd ), len( rev )\n",
    "    if len( fwd ) == len( rev ) == 1:\n",
    "        pear_opts = [ '-e', '2' ] \n",
    "        cmd = [ 'pear', '-f', fwd[0], '-r', rev[0], '-o', '{}/{}'.format( read_dir, sample ) ] + pear_opts\n",
    "        call( cmd )\n",
    "        expect += 1 "
   ]
  },
  {
   "cell_type": "code",
   "execution_count": 36,
   "metadata": {
    "collapsed": false
   },
   "outputs": [],
   "source": [
    "# convert all the assemblies to FASTA\n",
    "\n",
    "for assembly in glob( '{}/*.assembled.fastq'.format( read_dir ) ):\n",
    "    SeqIO.convert( assembly, 'fastq', assembly.replace( 'fastq', 'fasta' ), 'fasta' )"
   ]
  },
  {
   "cell_type": "code",
   "execution_count": 37,
   "metadata": {
    "collapsed": false
   },
   "outputs": [],
   "source": [
    "# load in allowed mutants for error checking \n",
    "\n",
    "with open( allowed_mutants ) as fn:\n",
    "    allowed_mutants = [ i.strip() for i in fn.readlines() if len(i) > 1 ] "
   ]
  },
  {
   "cell_type": "code",
   "execution_count": 42,
   "metadata": {
    "collapsed": false
   },
   "outputs": [
    {
     "name": "stdout",
     "output_type": "stream",
     "text": [
      "1116776/sample_1-1 \tC167F\n",
      "1116776/sample_1-2 \twild type\n",
      "1116776/sample_1-3 \twild type\n",
      "1116776/sample_10-1 \twild type\n",
      "1116776/sample_10-3 \tS16T\n",
      "1116776/sample_11-2 \tH119N+Q134P+R135S+G153C+N157K\n",
      "1116776/sample_11-3 \tH119N\n",
      "1116776/sample_2-1 \twild type\n",
      "1116776/sample_3-2 \tN293T\n",
      "1116776/sample_4-2 \tL219M\n",
      "1116776/sample_5-3 \tH315D\n",
      "1116776/sample_6-1 \tE177D+E208K\n",
      "1116776/sample_8-3 \tQ19N\n",
      "1116776/sample_9-1 \tE406N\n"
     ]
    }
   ],
   "source": [
    "# diff the assemblies against the wild type protein sequence \n",
    "\n",
    "singles = []\n",
    "for assembly in glob( '{}/*.assembled.fasta'.format( read_dir ) ):\n",
    "    name = assembly.split( '.' )[0] \n",
    "    lines = check_output( [ 'blastx', '-subject', wt_pep, '-query', assembly, '-outfmt', '6 sseq qseq length' ] ).split()\n",
    "    if lines and lines[0] and lines[1] and lines[2]:\n",
    "        z = zip( lines[0], lines[1] )\n",
    "        d = [ '{}{}{}'.format( i, n+1, j ) for n, ( i, j ) in enumerate( z ) if i != j ]\n",
    "        dstr = '+'.join( d ) \n",
    "        if len( d ) == 0: \n",
    "            print name, '\\twild type'\n",
    "        elif len( d ) == 1:\n",
    "            if d[0] in allowed_mutants:\n",
    "                print name, '\\t{}'.format( dstr ) \n",
    "                singles.append( ( d[0], name ) )\n",
    "            else:\n",
    "                print name, '\\tbad alignment'\n",
    "        elif len( d ) > 1:\n",
    "            #print name, '\\t... ({} mutations)'.format( len( d ) ) \n",
    "            print name, '\\t{}'.format( dstr ) "
   ]
  },
  {
   "cell_type": "code",
   "execution_count": 39,
   "metadata": {
    "collapsed": false
   },
   "outputs": [
    {
     "data": {
      "text/plain": [
       "[('C167F', '1116776/sample_1-1'),\n",
       " ('S16T', '1116776/sample_10-3'),\n",
       " ('H119N', '1116776/sample_11-3'),\n",
       " ('N293T', '1116776/sample_3-2'),\n",
       " ('L219M', '1116776/sample_4-2'),\n",
       " ('H315D', '1116776/sample_5-3'),\n",
       " ('Q19N', '1116776/sample_8-3'),\n",
       " ('E406N', '1116776/sample_9-1')]"
      ]
     },
     "execution_count": 39,
     "metadata": {},
     "output_type": "execute_result"
    }
   ],
   "source": [
    "singles"
   ]
  },
  {
   "cell_type": "code",
   "execution_count": 40,
   "metadata": {
    "collapsed": false
   },
   "outputs": [
    {
     "data": {
      "text/plain": [
       "{'C167F': '1116776/sample_1-1',\n",
       " 'E406N': '1116776/sample_9-1',\n",
       " 'H119N': '1116776/sample_11-3',\n",
       " 'H315D': '1116776/sample_5-3',\n",
       " 'L219M': '1116776/sample_4-2',\n",
       " 'N293T': '1116776/sample_3-2',\n",
       " 'Q19N': '1116776/sample_8-3',\n",
       " 'S16T': '1116776/sample_10-3'}"
      ]
     },
     "execution_count": 40,
     "metadata": {},
     "output_type": "execute_result"
    }
   ],
   "source": [
    "dict( singles ) "
   ]
  },
  {
   "cell_type": "code",
   "execution_count": 41,
   "metadata": {
    "collapsed": false
   },
   "outputs": [
    {
     "name": "stdout",
     "output_type": "stream",
     "text": [
      "Found 8 of 30 expected mutants\n"
     ]
    }
   ],
   "source": [
    "# results \n",
    "\n",
    "picks = dict( singles ) \n",
    "l = len( picks ) \n",
    "print 'Found {} of {} expected mutants'.format( l, expect ) "
   ]
  },
  {
   "cell_type": "code",
   "execution_count": null,
   "metadata": {
    "collapsed": true
   },
   "outputs": [],
   "source": []
  }
 ],
 "metadata": {
  "anaconda-cloud": {},
  "kernelspec": {
   "display_name": "Python [conda root]",
   "language": "python",
   "name": "conda-root-py"
  },
  "language_info": {
   "codemirror_mode": {
    "name": "ipython",
    "version": 3
   },
   "file_extension": ".py",
   "mimetype": "text/x-python",
   "name": "python",
   "nbconvert_exporter": "python",
   "pygments_lexer": "ipython3",
   "version": "3.5.2"
  }
 },
 "nbformat": 4,
 "nbformat_minor": 0
}
