{
 "cells": [
  {
   "cell_type": "code",
   "execution_count": 26,
   "metadata": {
    "collapsed": true
   },
   "outputs": [],
   "source": [
    "my_muts = set( '''\n",
    "H119S\n",
    "H119S\n",
    "H119S\n",
    "R359E\n",
    "R359E\n",
    "R359E\n",
    "N220W\n",
    "N220W\n",
    "N220W\n",
    "N404Q\n",
    "N404Q\n",
    "N404Q\n",
    "H178F\n",
    "H178F\n",
    "H178F\n",
    "H315D\n",
    "W34R\n",
    "E177D\n",
    "E177D\n",
    "E177D\n",
    "W325Y\n",
    "W325Y\n",
    "W325Y\n",
    "H119D\n",
    "H119D\n",
    "H119D\n",
    "N404S\n",
    "N404S\n",
    "N404S\n",
    "Q19N\n",
    "Q19N\n",
    "Q19N\n",
    "E406N\n",
    "H178K\n",
    "H178K\n",
    "E177N\n",
    "E177N\n",
    "E177N\n",
    "N404E\n",
    "N404E\n",
    "N404E\n",
    "S16Q\n",
    "'''.split() )"
   ]
  },
  {
   "cell_type": "code",
   "execution_count": 27,
   "metadata": {
    "collapsed": false
   },
   "outputs": [
    {
     "data": {
      "text/plain": [
       "{'E177D',\n",
       " 'E177N',\n",
       " 'E406N',\n",
       " 'H119D',\n",
       " 'H119S',\n",
       " 'H178F',\n",
       " 'H178K',\n",
       " 'H315D',\n",
       " 'N220W',\n",
       " 'N404E',\n",
       " 'N404Q',\n",
       " 'N404S',\n",
       " 'Q19N',\n",
       " 'R359E',\n",
       " 'S16Q',\n",
       " 'W325Y',\n",
       " 'W34R'}"
      ]
     },
     "execution_count": 27,
     "metadata": {},
     "output_type": "execute_result"
    }
   ],
   "source": [
    "my_muts"
   ]
  },
  {
   "cell_type": "code",
   "execution_count": 28,
   "metadata": {
    "collapsed": false
   },
   "outputs": [
    {
     "name": "stdout",
     "output_type": "stream",
     "text": [
      "generated CSV for 16 mutants\n"
     ]
    }
   ],
   "source": [
    "import pandas \n",
    "from skbio import TabularMSA, DNA\n",
    "\n",
    "r = pandas.read_csv( '/Users/alex/Documents/bagel-main/roster/current_roster.csv' ) \n",
    "raw = pandas.read_csv( 'raw_collect.txt', sep='\\s+', header=None, names=['mutation', 'student'] )\n",
    "oligos = TabularMSA.read( '../../../oligo_design/my_oligos.fa', constructor=DNA )\n",
    "seq_dict = { i.metadata[ 'id' ]: str(i) for i in oligos } \n",
    "our = list( r.mutant ) + list( my_muts ) \n",
    "n_muts = 0\n",
    "\n",
    "with open( 'my_csv.csv', 'w' ) as fn:\n",
    "    fn.write( 'mutant_label,oligo_label,sequence,scale,purification\\n' )\n",
    "    for m in raw.mutation:\n",
    "        if m not in our: \n",
    "            my_seq = seq_dict[ m ] \n",
    "            my_str = '{0},{0},{1},25nm,standard\\n'\n",
    "            our.append( m ) \n",
    "            fn.write( my_str.format( m, my_seq ) )\n",
    "            n_muts += 1 \n",
    "\n",
    "print( 'generated CSV for {} mutants'.format( n_muts ) )"
   ]
  },
  {
   "cell_type": "code",
   "execution_count": 29,
   "metadata": {
    "collapsed": false
   },
   "outputs": [
    {
     "name": "stdout",
     "output_type": "stream",
     "text": [
      "mutant_label,oligo_label,sequence,scale,purification\r\n",
      "N293Y,N293Y,GCTACGGGTATAATAATAAATGCCCAGAAAATC,25nm,standard\r\n",
      "T352V,T352V,TGCTGCACCATTTTCCACAATCAGGATCGGCAG,25nm,standard\r\n",
      "Y118F,Y118F,CGGCAGATCCCAATGAAACAGGGTCAGCATCGG,25nm,standard\r\n",
      "Y295W,Y295W,AATAATGCTACGGGTCCAATAGTTAATGCCCAG,25nm,standard\r\n",
      "W120N,W120N,CCACTGCGGCAGATCGTTATGATACAGGGTCAG,25nm,standard\r\n",
      "Y166K,Y166K,CAGAATGCTTGCACATTTCGGTTCATTGATGGT,25nm,standard\r\n",
      "H119Q,H119Q,CTGCGGCAGATCCCACTGATACAGGGTCAGCAT,25nm,standard\r\n",
      "H178C,H178C,TTCATGACCCGGTGCGCATTCACCGGTGCCATA,25nm,standard\r\n",
      "E406V,E406V,ATAACCCCATGCCCACACAAAGTTATCCAGAAA,25nm,standard\r\n",
      "H328N,H328N,ATAGAAGCTTTCCGGGTTAATTTCCCAACCCAT,25nm,standard\r\n",
      "H178W,H178W,TTCATGACCCGGTGCCCATTCACCGGTGCCATA,25nm,standard\r\n",
      "A306N,A306N,AACTTGCAGCAGGCTGTTATCATTGGTGCTGCG,25nm,standard\r\n",
      "M10Q,M10Q,GGTGCTGGTGCCCCACTGAAAGGTTGCCGGAAA,25nm,standard\r\n",
      "L171N,L171N,ACCGGTGCCATAACCGTTAATGCTTGCACAATA,25nm,standard\r\n",
      "I20C,I20C,ATCGGTGCCACCTTCGCACTGATAGCTGCTGGT,25nm,standard\r\n",
      "T175H,T175H,CGGTGCATGTTCACCATGGCCATAACCCAGAAT,25nm,standard\r\n"
     ]
    }
   ],
   "source": [
    "! cat my_csv.csv"
   ]
  },
  {
   "cell_type": "code",
   "execution_count": null,
   "metadata": {
    "collapsed": true
   },
   "outputs": [],
   "source": []
  }
 ],
 "metadata": {
  "anaconda-cloud": {},
  "kernelspec": {
   "display_name": "Python [conda root]",
   "language": "python",
   "name": "conda-root-py"
  },
  "language_info": {
   "codemirror_mode": {
    "name": "ipython",
    "version": 3
   },
   "file_extension": ".py",
   "mimetype": "text/x-python",
   "name": "python",
   "nbconvert_exporter": "python",
   "pygments_lexer": "ipython3",
   "version": "3.5.2"
  }
 },
 "nbformat": 4,
 "nbformat_minor": 0
}
