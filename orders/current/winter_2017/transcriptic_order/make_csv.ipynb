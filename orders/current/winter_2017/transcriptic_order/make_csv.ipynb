{
 "cells": [
  {
   "cell_type": "code",
   "execution_count": 5,
   "metadata": {
    "collapsed": false
   },
   "outputs": [
    {
     "name": "stdout",
     "output_type": "stream",
     "text": [
      "0    L350I\n",
      "1    S302A\n",
      "2    S302H\n",
      "3    F343Y\n",
      "4     F57Y\n",
      "5     F57A\n",
      "6    T296H\n",
      "7    C167Y\n",
      "8    W409T\n",
      "Name: mutant, dtype: object\n",
      "generated CSV for 9 mutants\n"
     ]
    }
   ],
   "source": [
    "import pandas \n",
    "from skbio import TabularMSA, DNA\n",
    "\n",
    "with open( 'raw_collect.txt' ) as fn:\n",
    "    raw = fn.read().split()\n",
    "    \n",
    "    \n",
    "raw_collect = pandas.read_csv( 'raw_collect.txt', sep='\\s+', header=None, names=['mutant', 'student']) \n",
    "raw = raw_collect.mutant\n",
    "print( raw )\n",
    "r = pandas.read_csv( '/Users/alex/Documents/bagel-main/roster/current_roster.csv' ) \n",
    "oligos = TabularMSA.read( '../../../../oligo_design/antisense_oligos.fa', constructor=DNA )\n",
    "seq_dict = { i.metadata[ 'id' ]: str(i) for i in oligos } \n",
    "#our = list( r.mutant ) + list( my_muts ) \n",
    "our = list( r.mutant ) \n",
    "n_muts = 0\n",
    "\n",
    "with open( 'my_csv.csv', 'w' ) as fn:\n",
    "    fn.write( 'mutant_label,oligo_label,sequence,scale,purification\\n' )\n",
    "    for m in raw:\n",
    "        if m not in our:\n",
    "            if m in seq_dict.keys():\n",
    "                my_seq = seq_dict[ m ] \n",
    "                my_str = '{0},{0},{1},25nm,standard\\n'\n",
    "                our.append( m ) \n",
    "                fn.write( my_str.format( m, my_seq ) )\n",
    "                n_muts += 1 \n",
    "\n",
    "print( 'generated CSV for {} mutants'.format( n_muts ) )"
   ]
  },
  {
   "cell_type": "code",
   "execution_count": 6,
   "metadata": {
    "collapsed": false
   },
   "outputs": [
    {
     "name": "stdout",
     "output_type": "stream",
     "text": [
      "mutant_label,oligo_label,sequence,scale,purification\r\n",
      "L350I,L350I,ACCATTTTCGGTAATAATGATCGGCAGACCTTT,25nm,standard\r\n",
      "S302A,S302A,GCTTGCATCATTGGTCGCGCGAATAATGCTACG,25nm,standard\r\n",
      "S302H,S302H,GCTTGCATCATTGGTATGGCGAATAATGCTACG,25nm,standard\r\n",
      "F343Y,F343Y,CGGCAGACCTTTGCTATAATCTTTTTCAATGCG,25nm,standard\r\n",
      "F57Y,F57Y,TTCTTTAAAGTGGTGATAATGATCACAGGCAAC,25nm,standard\r\n",
      "F57A,F57A,TTCTTTAAAGTGGTGCGCATGATCACAGGCAAC,25nm,standard\r\n",
      "T296H,T296H,GCGAATAATGCTACGATGATAATAGTTAATGCC,25nm,standard\r\n",
      "C167Y,C167Y,ACCCAGAATGCTTGCATAATACGGTTCATTGAT,25nm,standard\r\n",
      "W409T,W409T,ACGTTTGCTATAACCGGTTGCCCATTCAAAGTT,25nm,standard\r\n"
     ]
    }
   ],
   "source": [
    "! cat my_csv.csv"
   ]
  },
  {
   "cell_type": "code",
   "execution_count": null,
   "metadata": {
    "collapsed": true
   },
   "outputs": [],
   "source": []
  }
 ],
 "metadata": {
  "anaconda-cloud": {},
  "kernelspec": {
   "display_name": "Python [conda root]",
   "language": "python",
   "name": "conda-root-py"
  },
  "language_info": {
   "codemirror_mode": {
    "name": "ipython",
    "version": 3
   },
   "file_extension": ".py",
   "mimetype": "text/x-python",
   "name": "python",
   "nbconvert_exporter": "python",
   "pygments_lexer": "ipython3",
   "version": "3.5.2"
  }
 },
 "nbformat": 4,
 "nbformat_minor": 0
}
