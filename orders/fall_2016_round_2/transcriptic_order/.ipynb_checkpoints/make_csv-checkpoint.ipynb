{
 "cells": [
  {
   "cell_type": "code",
   "execution_count": 2,
   "metadata": {
    "collapsed": true
   },
   "outputs": [],
   "source": [
    "my_muts = set( '''\n",
    "H119S\n",
    "H119S\n",
    "H119S\n",
    "R359E\n",
    "R359E\n",
    "R359E\n",
    "N220W\n",
    "N220W\n",
    "N220W\n",
    "N404Q\n",
    "N404Q\n",
    "N404Q\n",
    "H178F\n",
    "H178F\n",
    "H178F\n",
    "H315D\n",
    "W34R\n",
    "E177D\n",
    "E177D\n",
    "E177D\n",
    "W325Y\n",
    "W325Y\n",
    "W325Y\n",
    "H119D\n",
    "H119D\n",
    "H119D\n",
    "N404S\n",
    "N404S\n",
    "N404S\n",
    "Q19N\n",
    "Q19N\n",
    "Q19N\n",
    "E406N\n",
    "H178K\n",
    "H178K\n",
    "E177N\n",
    "E177N\n",
    "E177N\n",
    "N404E\n",
    "N404E\n",
    "N404E\n",
    "S16Q\n",
    "'''.split() )"
   ]
  },
  {
   "cell_type": "code",
   "execution_count": 3,
   "metadata": {
    "collapsed": false
   },
   "outputs": [
    {
     "data": {
      "text/plain": [
       "{'E177D',\n",
       " 'E177N',\n",
       " 'E406N',\n",
       " 'H119D',\n",
       " 'H119S',\n",
       " 'H178F',\n",
       " 'H178K',\n",
       " 'H315D',\n",
       " 'N220W',\n",
       " 'N404E',\n",
       " 'N404Q',\n",
       " 'N404S',\n",
       " 'Q19N',\n",
       " 'R359E',\n",
       " 'S16Q',\n",
       " 'W325Y',\n",
       " 'W34R'}"
      ]
     },
     "execution_count": 3,
     "metadata": {},
     "output_type": "execute_result"
    }
   ],
   "source": [
    "my_muts"
   ]
  },
  {
   "cell_type": "code",
   "execution_count": 1,
   "metadata": {
    "collapsed": false
   },
   "outputs": [
    {
     "ename": "ImportError",
     "evalue": "No module named 'skbio'",
     "output_type": "error",
     "traceback": [
      "\u001b[0;31m---------------------------------------------------------------------------\u001b[0m",
      "\u001b[0;31mImportError\u001b[0m                               Traceback (most recent call last)",
      "\u001b[0;32m<ipython-input-1-ccdaf34f438c>\u001b[0m in \u001b[0;36m<module>\u001b[0;34m()\u001b[0m\n\u001b[1;32m      1\u001b[0m \u001b[0;32mimport\u001b[0m \u001b[0mpandas\u001b[0m\u001b[0;34m\u001b[0m\u001b[0m\n\u001b[0;32m----> 2\u001b[0;31m \u001b[0;32mfrom\u001b[0m \u001b[0mskbio\u001b[0m \u001b[0;32mimport\u001b[0m \u001b[0mTabularMSA\u001b[0m\u001b[0;34m,\u001b[0m \u001b[0mDNA\u001b[0m\u001b[0;34m\u001b[0m\u001b[0m\n\u001b[0m\u001b[1;32m      3\u001b[0m \u001b[0;34m\u001b[0m\u001b[0m\n\u001b[1;32m      4\u001b[0m \u001b[0mr\u001b[0m \u001b[0;34m=\u001b[0m \u001b[0mpandas\u001b[0m\u001b[0;34m.\u001b[0m\u001b[0mread_csv\u001b[0m\u001b[0;34m(\u001b[0m \u001b[0;34m'/Users/alex/Documents/bagel-main/roster/current_roster.csv'\u001b[0m \u001b[0;34m)\u001b[0m\u001b[0;34m\u001b[0m\u001b[0m\n\u001b[1;32m      5\u001b[0m \u001b[0mraw\u001b[0m \u001b[0;34m=\u001b[0m \u001b[0mpandas\u001b[0m\u001b[0;34m.\u001b[0m\u001b[0mread_csv\u001b[0m\u001b[0;34m(\u001b[0m \u001b[0;34m'raw_collect.txt'\u001b[0m\u001b[0;34m,\u001b[0m \u001b[0msep\u001b[0m\u001b[0;34m=\u001b[0m\u001b[0;34m'\\s+'\u001b[0m\u001b[0;34m,\u001b[0m \u001b[0mheader\u001b[0m\u001b[0;34m=\u001b[0m\u001b[0;32mNone\u001b[0m\u001b[0;34m,\u001b[0m \u001b[0mnames\u001b[0m\u001b[0;34m=\u001b[0m\u001b[0;34m[\u001b[0m\u001b[0;34m'mutation'\u001b[0m\u001b[0;34m,\u001b[0m \u001b[0;34m'student'\u001b[0m\u001b[0;34m]\u001b[0m \u001b[0;34m)\u001b[0m\u001b[0;34m\u001b[0m\u001b[0m\n",
      "\u001b[0;31mImportError\u001b[0m: No module named 'skbio'"
     ]
    }
   ],
   "source": [
    "import pandas \n",
    "from skbio import TabularMSA, DNA\n",
    "\n",
    "r = pandas.read_csv( '/Users/alex/Documents/bagel-main/roster/current_roster.csv' ) \n",
    "raw = pandas.read_csv( 'raw_collect.txt', sep='\\s+', header=None, names=['mutation', 'student'] )\n",
    "oligos = TabularMSA.read( '../../../oligo_design/my_oligos.fa', constructor=DNA )\n",
    "seq_dict = { i.metadata[ 'id' ]: str(i) for i in oligos } \n",
    "our = list( r.mutant ) \n",
    "n_muts = 0\n",
    "\n",
    "with open( 'my_csv.csv', 'w' ) as fn:\n",
    "    fn.write( 'mutant_label,oligo_label,sequence,scale,purification\\n' )\n",
    "    for m in raw.mutation:\n",
    "        if m not in our: \n",
    "            my_seq = seq_dict[ m ] \n",
    "            my_str = '{0},{0},{1},25nm,standard\\n'\n",
    "            our.append( m ) \n",
    "            fn.write( my_str.format( m, my_seq ) )\n",
    "            n_muts += 1 \n",
    "\n",
    "print( 'generated CSV for {} mutants'.format( n_muts ) )"
   ]
  },
  {
   "cell_type": "code",
   "execution_count": null,
   "metadata": {
    "collapsed": false
   },
   "outputs": [],
   "source": [
    "! cat my_csv.csv"
   ]
  },
  {
   "cell_type": "code",
   "execution_count": null,
   "metadata": {
    "collapsed": true
   },
   "outputs": [],
   "source": []
  }
 ],
 "metadata": {
  "anaconda-cloud": {},
  "kernelspec": {
   "display_name": "Python [conda root]",
   "language": "python",
   "name": "conda-root-py"
  }
 },
 "nbformat": 4,
 "nbformat_minor": 0
}
