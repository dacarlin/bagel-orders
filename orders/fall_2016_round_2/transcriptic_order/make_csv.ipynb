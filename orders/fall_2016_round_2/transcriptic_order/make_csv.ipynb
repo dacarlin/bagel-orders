{
 "cells": [
  {
   "cell_type": "code",
   "execution_count": 3,
   "metadata": {
    "collapsed": false
   },
   "outputs": [
    {
     "name": "stdout",
     "output_type": "stream",
     "text": [
      "generated CSV for 19 mutants\n"
     ]
    }
   ],
   "source": [
    "import pandas \n",
    "from skbio import TabularMSA, DNA\n",
    "\n",
    "r = pandas.read_csv( '/Users/alex/Documents/bagel-main/roster/roster.csv', index_col='correct_name' ) \n",
    "\n",
    "# recent additions (just add to roster!) \n",
    "with open( 'tmp.txt' ) as fn:\n",
    "    adds = fn.read().split()\n",
    "our = list(r.index) + adds \n",
    "\n",
    "raw = pandas.read_csv( 'raw_collect.txt', sep='\\s+', header=None, names=['mutation', 'student'] )\n",
    "oligos = TabularMSA.read( '../../oligo_design/my_oligos.fa', constructor=DNA )\n",
    "seq_dict = { i.metadata[ 'id' ]: str(i) for i in oligos } \n",
    "\n",
    "n_muts = 0\n",
    "with open( 'my_csv.csv', 'w' ) as fn:\n",
    "    fn.write( 'mutant_label,oligo_label,sequence,scale,purification\\n' )\n",
    "    for m in raw.mutation:\n",
    "        if m not in our: \n",
    "            my_seq = seq_dict[ m ] \n",
    "            my_str = '{0},{0},{1},25nm,standard\\n'\n",
    "            our.append( m ) \n",
    "            fn.write( my_str.format( m, my_seq ) )\n",
    "            n_muts += 1 \n",
    "\n",
    "print 'generated CSV for {} mutants'.format( n_muts ) "
   ]
  },
  {
   "cell_type": "code",
   "execution_count": 4,
   "metadata": {
    "collapsed": false
   },
   "outputs": [
    {
     "name": "stdout",
     "output_type": "stream",
     "text": [
      "mutant_label,oligo_label,sequence,scale,purification\r\n",
      "E406N,E406N,ATAACCCCATGCCCAGTTAAAGTTATCCAGAAA,25nm,standard\r\n",
      "Q19N,Q19N,GGTGCCACCTTCAATGTTATAGCTGCTGGTGCT,25nm,standard\r\n",
      "H119D,H119D,CTGCGGCAGATCCCAATCATACAGGGTCAGCAT,25nm,standard\r\n",
      "H315D,H315D,AACCGGTTCTTCCATATCAACCTGTTCAACTTG,25nm,standard\r\n",
      "E177D,E177D,ATGACCCGGTGCATGATCACCGGTGCCATAACC,25nm,standard\r\n",
      "R359E,R359E,ATTAACCAGTTCATCTTCCATTGCTGCACCATT,25nm,standard\r\n",
      "N404Q,N404Q,CCATGCCCATTCAAACTGATCCAGAAAGCTCCA,25nm,standard\r\n",
      "S16Q,S16Q,TTCAATCTGATAGCTCTGGGTGCTGGTGCCCCA,25nm,standard\r\n",
      "W325Y,W325Y,TTCCGGATGAATTTCATAACCCATATCGGTAAC,25nm,standard\r\n",
      "H178K,H178K,TTCATGACCCGGTGCTTTTTCACCGGTGCCATA,25nm,standard\r\n",
      "E177N,E177N,ATGACCCGGTGCATGGTTACCGGTGCCATAACC,25nm,standard\r\n",
      "H178C,H178C,TTCATGACCCGGTGCGCATTCACCGGTGCCATA,25nm,standard\r\n",
      "W34R,W34R,CTGACAAAAGGTATCACGAATGCTCGGGGTACG,25nm,standard\r\n",
      "H178F,H178F,TTCATGACCCGGTGCAAATTCACCGGTGCCATA,25nm,standard\r\n",
      "H119S,H119S,CTGCGGCAGATCCCAGCTATACAGGGTCAGCAT,25nm,standard\r\n",
      "N220W,N220W,ATCAACATGTTCCATCCACAGGGTAATGCCAAT,25nm,standard\r\n",
      "N404E,N404E,CCATGCCCATTCAAATTCATCCAGAAAGCTCCA,25nm,standard\r\n",
      "N404S,N404S,CCATGCCCATTCAAAGCTATCCAGAAAGCTCCA,25nm,standard\r\n",
      "E406V,E406V,ATAACCCCATGCCCACACAAAGTTATCCAGAAA,25nm,standard\r\n"
     ]
    }
   ],
   "source": [
    "! cat my_csv.csv"
   ]
  },
  {
   "cell_type": "code",
   "execution_count": 8,
   "metadata": {
    "collapsed": true
   },
   "outputs": [],
   "source": [
    "# make a FASTA for LAST \n",
    "\n",
    "import pandas \n",
    "from skbio import TabularMSA, DNA\n",
    "\n",
    "r = pandas.read_csv( '/Users/alex/Documents/bagel-main/roster/roster.csv', index_col='correct_name' ) \n",
    "\n",
    "# recent additions (just add to roster!) \n",
    "with open( 'tmp.txt' ) as fn:\n",
    "    adds = fn.read().split()\n",
    "our = list(r.index) + adds \n",
    "\n",
    "raw = pandas.read_csv( 'raw_collect.txt', sep='\\s+', header=None, names=['mutation', 'student'] )\n",
    "oligos = TabularMSA.read( '../../oligo_design/my_oligos.fa', constructor=DNA )\n",
    "seq_dict = { i.metadata[ 'id' ]: str(i) for i in oligos } \n",
    "\n",
    "with open( 'my_oligos.fasta', 'w' ) as fn:\n",
    "    for m in raw.mutation:\n",
    "        if m not in our: \n",
    "            my_seq = seq_dict[ m ] \n",
    "            my_str = '>{0}\\n{1}\\n'\n",
    "            our.append( m ) \n",
    "            fn.write( my_str.format( m, my_seq ) )"
   ]
  },
  {
   "cell_type": "code",
   "execution_count": 10,
   "metadata": {
    "collapsed": false
   },
   "outputs": [
    {
     "name": "stdout",
     "output_type": "stream",
     "text": [
      ">E406N\r\n",
      "ATAACCCCATGCCCAGTTAAAGTTATCCAGAAA\r\n",
      ">Q19N\r\n",
      "GGTGCCACCTTCAATGTTATAGCTGCTGGTGCT\r\n",
      ">H119D\r\n",
      "CTGCGGCAGATCCCAATCATACAGGGTCAGCAT\r\n",
      ">H315D\r\n",
      "AACCGGTTCTTCCATATCAACCTGTTCAACTTG\r\n",
      ">E177D\r\n",
      "ATGACCCGGTGCATGATCACCGGTGCCATAACC\r\n",
      ">R359E\r\n",
      "ATTAACCAGTTCATCTTCCATTGCTGCACCATT\r\n",
      ">N404Q\r\n",
      "CCATGCCCATTCAAACTGATCCAGAAAGCTCCA\r\n",
      ">S16Q\r\n",
      "TTCAATCTGATAGCTCTGGGTGCTGGTGCCCCA\r\n",
      ">W325Y\r\n",
      "TTCCGGATGAATTTCATAACCCATATCGGTAAC\r\n",
      ">H178K\r\n",
      "TTCATGACCCGGTGCTTTTTCACCGGTGCCATA\r\n",
      ">E177N\r\n",
      "ATGACCCGGTGCATGGTTACCGGTGCCATAACC\r\n",
      ">H178C\r\n",
      "TTCATGACCCGGTGCGCATTCACCGGTGCCATA\r\n",
      ">W34R\r\n",
      "CTGACAAAAGGTATCACGAATGCTCGGGGTACG\r\n",
      ">H178F\r\n",
      "TTCATGACCCGGTGCAAATTCACCGGTGCCATA\r\n",
      ">H119S\r\n",
      "CTGCGGCAGATCCCAGCTATACAGGGTCAGCAT\r\n",
      ">N220W\r\n",
      "ATCAACATGTTCCATCCACAGGGTAATGCCAAT\r\n",
      ">N404E\r\n",
      "CCATGCCCATTCAAATTCATCCAGAAAGCTCCA\r\n",
      ">N404S\r\n",
      "CCATGCCCATTCAAAGCTATCCAGAAAGCTCCA\r\n",
      ">E406V\r\n",
      "ATAACCCCATGCCCACACAAAGTTATCCAGAAA\r\n"
     ]
    }
   ],
   "source": [
    "! cat my_oligos.fasta "
   ]
  },
  {
   "cell_type": "code",
   "execution_count": null,
   "metadata": {
    "collapsed": true
   },
   "outputs": [],
   "source": []
  }
 ],
 "metadata": {
  "kernelspec": {
   "display_name": "Python 2",
   "language": "python",
   "name": "python2"
  },
  "language_info": {
   "codemirror_mode": {
    "name": "ipython",
    "version": 2
   },
   "file_extension": ".py",
   "mimetype": "text/x-python",
   "name": "python",
   "nbconvert_exporter": "python",
   "pygments_lexer": "ipython2",
   "version": "2.7.12"
  }
 },
 "nbformat": 4,
 "nbformat_minor": 0
}
