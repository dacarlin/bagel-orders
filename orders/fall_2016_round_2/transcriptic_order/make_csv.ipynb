{
 "cells": [
  {
   "cell_type": "code",
   "execution_count": 6,
   "metadata": {
    "collapsed": false
   },
   "outputs": [
    {
     "name": "stdout",
     "output_type": "stream",
     "text": [
      "Index(['SL_index', 'box', 'row', 'column', 'physical_desc', 'mutant'], dtype='object')\n",
      "generated CSV for 7 mutants\n"
     ]
    }
   ],
   "source": [
    "import pandas \n",
    "from skbio import TabularMSA, DNA\n",
    "\n",
    "r = pandas.read_csv( '/Users/alex/Documents/bagel-main/roster/current_roster.csv' ) \n",
    "raw = pandas.read_csv( 'raw_collect.txt', sep='\\s+', header=None, names=['mutation', 'student'] )\n",
    "oligos = TabularMSA.read( '../../../oligo_design/my_oligos.fa', constructor=DNA )\n",
    "seq_dict = { i.metadata[ 'id' ]: str(i) for i in oligos } \n",
    "our = list( r.mutant ) \n",
    "n_muts = 0\n",
    "\n",
    "with open( 'my_csv.csv', 'w' ) as fn:\n",
    "    fn.write( 'mutant_label,oligo_label,sequence,scale,purification\\n' )\n",
    "    for m in raw.mutation:\n",
    "        if m not in our: \n",
    "            my_seq = seq_dict[ m ] \n",
    "            my_str = '{0},{0},{1},25nm,standard\\n'\n",
    "            our.append( m ) \n",
    "            fn.write( my_str.format( m, my_seq ) )\n",
    "            n_muts += 1 \n",
    "\n",
    "print( 'generated CSV for {} mutants'.format( n_muts ) )"
   ]
  },
  {
   "cell_type": "code",
   "execution_count": 7,
   "metadata": {
    "collapsed": false
   },
   "outputs": [
    {
     "name": "stdout",
     "output_type": "stream",
     "text": [
      "mutant_label,oligo_label,sequence,scale,purification\r\n",
      "N293Y,N293Y,GCTACGGGTATAATAATAAATGCCCAGAAAATC,25nm,standard\r\n",
      "T352V,T352V,TGCTGCACCATTTTCCACAATCAGGATCGGCAG,25nm,standard\r\n",
      "Y118F,Y118F,CGGCAGATCCCAATGAAACAGGGTCAGCATCGG,25nm,standard\r\n",
      "Y295W,Y295W,AATAATGCTACGGGTCCAATAGTTAATGCCCAG,25nm,standard\r\n",
      "W120N,W120N,CCACTGCGGCAGATCGTTATGATACAGGGTCAG,25nm,standard\r\n",
      "Y166K,Y166K,CAGAATGCTTGCACATTTCGGTTCATTGATGGT,25nm,standard\r\n",
      "H119Q,H119Q,CTGCGGCAGATCCCACTGATACAGGGTCAGCAT,25nm,standard\r\n"
     ]
    }
   ],
   "source": [
    "! cat my_csv.csv"
   ]
  }
 ],
 "metadata": {
  "anaconda-cloud": {},
  "kernelspec": {
   "display_name": "Python [conda root]",
   "language": "python",
   "name": "conda-root-py"
  },
  "language_info": {
   "codemirror_mode": {
    "name": "ipython",
    "version": 3
   },
   "file_extension": ".py",
   "mimetype": "text/x-python",
   "name": "python",
   "nbconvert_exporter": "python",
   "pygments_lexer": "ipython3",
   "version": "3.5.2"
  }
 },
 "nbformat": 4,
 "nbformat_minor": 0
}
