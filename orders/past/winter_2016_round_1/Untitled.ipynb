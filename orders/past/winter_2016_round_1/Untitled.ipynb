{
 "cells": [
  {
   "cell_type": "code",
   "execution_count": 25,
   "metadata": {
    "collapsed": false
   },
   "outputs": [
    {
     "name": "stdout",
     "output_type": "stream",
     "text": [
      "Mistake: ../../oligos/d220r.fasta does not match Bagel native residue\n"
     ]
    }
   ],
   "source": [
    "import pandas \n",
    "import screed \n",
    "import os\n",
    "\n",
    "df = pandas.read_csv( 'bagel-orders - Winter 2016, round A.csv' )\n",
    "\n",
    "def add_oligos( df ):\n",
    "    mut = df.Mutant.unique()[0]\n",
    "    lowered = '../../oligos/{}.fasta'.format( mut.lower() )\n",
    "    if os.path.isfile( lowered ):\n",
    "        for record in screed.open( lowered ):\n",
    "            seq = record.sequence\n",
    "        \n",
    "        df['oligo_sequence'] = seq \n",
    "        return df\n",
    "    else:\n",
    "        print 'Mistake: {} does not match Bagel native residue'.format( lowered )\n",
    "\n",
    "grouped = df.groupby( 'Mutant' ).apply( add_oligos )\n",
    "\n",
    "transcriptic_input = pandas.DataFrame()\n",
    "transcriptic_input['mutant_label'] = transcriptic_input['oligo_label'] = grouped.Mutant\n",
    "transcriptic_input['sequence'] = grouped.oligo_sequence\n",
    "transcriptic_input['scale'] = '25nm'\n",
    "transcriptic_input['purification'] = 'standard'\n",
    "transcriptic_input.index = range( len( transcriptic_input ) )\n",
    "\n",
    "#!head -1 /Users/alex/Downloads/Unknown\n",
    "\n",
    "transcriptic_input.to_csv( 'transcriptic_order.csv', index=False )"
   ]
  },
  {
   "cell_type": "code",
   "execution_count": null,
   "metadata": {
    "collapsed": true
   },
   "outputs": [],
   "source": []
  }
 ],
 "metadata": {
  "kernelspec": {
   "display_name": "Python 2",
   "language": "python",
   "name": "python2"
  },
  "language_info": {
   "codemirror_mode": {
    "name": "ipython",
    "version": 2
   },
   "file_extension": ".py",
   "mimetype": "text/x-python",
   "name": "python",
   "nbconvert_exporter": "python",
   "pygments_lexer": "ipython2",
   "version": "2.7.11"
  }
 },
 "nbformat": 4,
 "nbformat_minor": 0
}
