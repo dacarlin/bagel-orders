{
 "cells": [
  {
   "cell_type": "code",
   "execution_count": 1,
   "metadata": {
    "collapsed": false
   },
   "outputs": [],
   "source": [
    "from glob import glob \n",
    "from subprocess import call \n",
    "import pandas \n",
    "import json "
   ]
  },
  {
   "cell_type": "code",
   "execution_count": 3,
   "metadata": {
    "collapsed": false
   },
   "outputs": [],
   "source": [
    "for i in range( 1, 95 ):\n",
    "    if glob( 'reads/{}_T7_*.seq'.format( i ) ):\n",
    "        aseq = glob( 'reads/{}_T7_*.seq'.format( i ) )[0]\n",
    "        bseq = glob( 'reads/{}_T7term*.seq'.format( i ) )[0]\n",
    "        cmd = [ 'merger', '-asequence', aseq, '-bsequence', bseq, '-sreverse2', '-outfile', 'out/{}.merger'.format( i ), '-outseq', 'out/{}.fasta'.format( i ) ]\n",
    "        call( cmd )"
   ]
  },
  {
   "cell_type": "code",
   "execution_count": 4,
   "metadata": {
    "collapsed": false,
    "scrolled": true
   },
   "outputs": [
    {
     "name": "stderr",
     "output_type": "stream",
     "text": [
      "Warning: [blastn] lcl|Query_1 1_T7 Sample_Name=1_T7 Chromat_id=4692773 Read_id=4641047 Version=1 Length=5: Warning: Could not calculate ungapped Karlin-Altschul parameters due to an invalid query sequence or its translation. Please verify the query sequence(s) and/or filtering options \n",
      "Warning: [blastn] lcl|Query_1 1_T7 Sample_Name=1_T7 Chromat_id=4692773 Read_id=4641047 Version=1 Length=5: Warning: Could not calculate ungapped Karlin-Altschul parameters due to an invalid query sequence or its translation. Please verify the query sequence(s) and/or filtering options \n",
      "Warning: [blastn] lcl|Query_1 11_T7 Sample_Name=11_T7 Chromat_id=4693002 Read_id=4641313 Version=1 Length=5: Warning: Could not calculate ungapped Karlin-Altschul parameters due to an invalid query sequence or its translation. Please verify the query sequence(s) and/or filtering options \n",
      "Warning: [blastn] lcl|Query_1 11_T7 Sample_Name=11_T7 Chromat_id=4693002 Read_id=4641313 Version=1 Length=5: Warning: Could not calculate ungapped Karlin-Altschul parameters due to an invalid query sequence or its translation. Please verify the query sequence(s) and/or filtering options \n",
      "Warning: [blastn] lcl|Query_1 15_T7 Sample_Name=15_T7 Chromat_id=4692752 Read_id=4641056 Version=1 Length=5: Warning: Could not calculate ungapped Karlin-Altschul parameters due to an invalid query sequence or its translation. Please verify the query sequence(s) and/or filtering options \n",
      "Warning: [blastn] lcl|Query_1 15_T7 Sample_Name=15_T7 Chromat_id=4692752 Read_id=4641056 Version=1 Length=5: Warning: Could not calculate ungapped Karlin-Altschul parameters due to an invalid query sequence or its translation. Please verify the query sequence(s) and/or filtering options \n",
      "Warning: [blastn] lcl|Query_1 16_T7 Sample_Name=16_T7 Chromat_id=4692753 Read_id=4641046 Version=1 Length=5: Warning: Could not calculate ungapped Karlin-Altschul parameters due to an invalid query sequence or its translation. Please verify the query sequence(s) and/or filtering options \n",
      "Warning: [blastn] lcl|Query_1 16_T7 Sample_Name=16_T7 Chromat_id=4692753 Read_id=4641046 Version=1 Length=5: Warning: Could not calculate ungapped Karlin-Altschul parameters due to an invalid query sequence or its translation. Please verify the query sequence(s) and/or filtering options \n",
      "Warning: [blastn] lcl|Query_1 19_T7 Sample_Name=19_T7 Chromat_id=4693025 Read_id=4641259 Version=1 Length=5: Warning: Could not calculate ungapped Karlin-Altschul parameters due to an invalid query sequence or its translation. Please verify the query sequence(s) and/or filtering options \n",
      "Warning: [blastn] lcl|Query_1 19_T7 Sample_Name=19_T7 Chromat_id=4693025 Read_id=4641259 Version=1 Length=5: Warning: Could not calculate ungapped Karlin-Altschul parameters due to an invalid query sequence or its translation. Please verify the query sequence(s) and/or filtering options \n",
      "Warning: [blastn] lcl|Query_1 20_T7 Sample_Name=20_T7 Chromat_id=4693026 Read_id=4641298 Version=1 Length=5: Warning: Could not calculate ungapped Karlin-Altschul parameters due to an invalid query sequence or its translation. Please verify the query sequence(s) and/or filtering options \n",
      "Warning: [blastn] lcl|Query_1 20_T7 Sample_Name=20_T7 Chromat_id=4693026 Read_id=4641298 Version=1 Length=5: Warning: Could not calculate ungapped Karlin-Altschul parameters due to an invalid query sequence or its translation. Please verify the query sequence(s) and/or filtering options \n",
      "Warning: [blastn] lcl|Query_1 21_T7 Sample_Name=21_T7 Chromat_id=4693030 Read_id=4641261 Version=1 Length=5: Warning: Could not calculate ungapped Karlin-Altschul parameters due to an invalid query sequence or its translation. Please verify the query sequence(s) and/or filtering options \n",
      "Warning: [blastn] lcl|Query_1 21_T7 Sample_Name=21_T7 Chromat_id=4693030 Read_id=4641261 Version=1 Length=5: Warning: Could not calculate ungapped Karlin-Altschul parameters due to an invalid query sequence or its translation. Please verify the query sequence(s) and/or filtering options \n",
      "Warning: [blastn] lcl|Query_1 25_T7 Sample_Name=25_T7 Chromat_id=4692776 Read_id=4641034 Version=1 Length=5: Warning: Could not calculate ungapped Karlin-Altschul parameters due to an invalid query sequence or its translation. Please verify the query sequence(s) and/or filtering options \n",
      "Warning: [blastn] lcl|Query_1 25_T7 Sample_Name=25_T7 Chromat_id=4692776 Read_id=4641034 Version=1 Length=5: Warning: Could not calculate ungapped Karlin-Altschul parameters due to an invalid query sequence or its translation. Please verify the query sequence(s) and/or filtering options \n",
      "Warning: [blastn] lcl|Query_1 27_T7 Sample_Name=27_T7 Chromat_id=4692777 Read_id=4641028 Version=1 Length=5: Warning: Could not calculate ungapped Karlin-Altschul parameters due to an invalid query sequence or its translation. Please verify the query sequence(s) and/or filtering options \n",
      "Warning: [blastn] lcl|Query_1 27_T7 Sample_Name=27_T7 Chromat_id=4692777 Read_id=4641028 Version=1 Length=5: Warning: Could not calculate ungapped Karlin-Altschul parameters due to an invalid query sequence or its translation. Please verify the query sequence(s) and/or filtering options \n",
      "Warning: [blastn] lcl|Query_1 39_T7 Sample_Name=39_T7 Chromat_id=4692784 Read_id=4641039 Version=1 Length=5: Warning: Could not calculate ungapped Karlin-Altschul parameters due to an invalid query sequence or its translation. Please verify the query sequence(s) and/or filtering options \n",
      "Warning: [blastn] lcl|Query_1 39_T7 Sample_Name=39_T7 Chromat_id=4692784 Read_id=4641039 Version=1 Length=5: Warning: Could not calculate ungapped Karlin-Altschul parameters due to an invalid query sequence or its translation. Please verify the query sequence(s) and/or filtering options \n",
      "Warning: [blastn] lcl|Query_1 40_T7 Sample_Name=40_T7 Chromat_id=4692785 Read_id=4641021 Version=1 Length=5: Warning: Could not calculate ungapped Karlin-Altschul parameters due to an invalid query sequence or its translation. Please verify the query sequence(s) and/or filtering options \n",
      "Warning: [blastn] lcl|Query_1 40_T7 Sample_Name=40_T7 Chromat_id=4692785 Read_id=4641021 Version=1 Length=5: Warning: Could not calculate ungapped Karlin-Altschul parameters due to an invalid query sequence or its translation. Please verify the query sequence(s) and/or filtering options \n",
      "Warning: [blastn] lcl|Query_1 59_T7 Sample_Name=59_T7 Chromat_id=4693057 Read_id=4641297 Version=1 Length=5: Warning: Could not calculate ungapped Karlin-Altschul parameters due to an invalid query sequence or its translation. Please verify the query sequence(s) and/or filtering options \n",
      "Warning: [blastn] lcl|Query_1 59_T7 Sample_Name=59_T7 Chromat_id=4693057 Read_id=4641297 Version=1 Length=5: Warning: Could not calculate ungapped Karlin-Altschul parameters due to an invalid query sequence or its translation. Please verify the query sequence(s) and/or filtering options \n",
      "Warning: [blastn] lcl|Query_1 60_T7 Sample_Name=60_T7 Chromat_id=4693081 Read_id=4641343 Version=1 Length=5: Warning: Could not calculate ungapped Karlin-Altschul parameters due to an invalid query sequence or its translation. Please verify the query sequence(s) and/or filtering options \n",
      "Warning: [blastn] lcl|Query_1 60_T7 Sample_Name=60_T7 Chromat_id=4693081 Read_id=4641343 Version=1 Length=5: Warning: Could not calculate ungapped Karlin-Altschul parameters due to an invalid query sequence or its translation. Please verify the query sequence(s) and/or filtering options \n",
      "Warning: [blastn] lcl|Query_1 73_T7 Sample_Name=73_T7 Chromat_id=4692804 Read_id=4641143 Version=1 Length=5: Warning: Could not calculate ungapped Karlin-Altschul parameters due to an invalid query sequence or its translation. Please verify the query sequence(s) and/or filtering options \n",
      "Warning: [blastn] lcl|Query_1 73_T7 Sample_Name=73_T7 Chromat_id=4692804 Read_id=4641143 Version=1 Length=5: Warning: Could not calculate ungapped Karlin-Altschul parameters due to an invalid query sequence or its translation. Please verify the query sequence(s) and/or filtering options \n",
      "Warning: [blastn] lcl|Query_1 77_T7 Sample_Name=77_T7 Chromat_id=4692808 Read_id=4641061 Version=1 Length=5: Warning: Could not calculate ungapped Karlin-Altschul parameters due to an invalid query sequence or its translation. Please verify the query sequence(s) and/or filtering options \n",
      "Warning: [blastn] lcl|Query_1 77_T7 Sample_Name=77_T7 Chromat_id=4692808 Read_id=4641061 Version=1 Length=5: Warning: Could not calculate ungapped Karlin-Altschul parameters due to an invalid query sequence or its translation. Please verify the query sequence(s) and/or filtering options \n",
      "Warning: [blastn] lcl|Query_1 91_T7 Sample_Name=91_T7 Chromat_id=4692817 Read_id=4641129 Version=1 Length=5: Warning: Could not calculate ungapped Karlin-Altschul parameters due to an invalid query sequence or its translation. Please verify the query sequence(s) and/or filtering options \n",
      "Warning: [blastn] lcl|Query_1 91_T7 Sample_Name=91_T7 Chromat_id=4692817 Read_id=4641129 Version=1 Length=5: Warning: Could not calculate ungapped Karlin-Altschul parameters due to an invalid query sequence or its translation. Please verify the query sequence(s) and/or filtering options \n",
      "Warning: [blastn] lcl|Query_1 93_T7 Sample_Name=93_T7 Chromat_id=4693091 Read_id=4641361 Version=1 Length=5: Warning: Could not calculate ungapped Karlin-Altschul parameters due to an invalid query sequence or its translation. Please verify the query sequence(s) and/or filtering options \n",
      "Warning: [blastn] lcl|Query_1 93_T7 Sample_Name=93_T7 Chromat_id=4693091 Read_id=4641361 Version=1 Length=5: Warning: Could not calculate ungapped Karlin-Altschul parameters due to an invalid query sequence or its translation. Please verify the query sequence(s) and/or filtering options \n",
      "Warning: [blastn] lcl|Query_1 1_T7 Sample_Name=1_T7 Chromat_id=4692773 Read_id=4641047 Version=1 Length=5: Warning: Could not calculate ungapped Karlin-Altschul parameters due to an invalid query sequence or its translation. Please verify the query sequence(s) and/or filtering options \n",
      "Warning: [blastn] lcl|Query_1 1_T7 Sample_Name=1_T7 Chromat_id=4692773 Read_id=4641047 Version=1 Length=5: Warning: Could not calculate ungapped Karlin-Altschul parameters due to an invalid query sequence or its translation. Please verify the query sequence(s) and/or filtering options \n",
      "Warning: [blastn] lcl|Query_1 19_T7 Sample_Name=19_T7 Chromat_id=4693025 Read_id=4641259 Version=1 Length=5: Warning: Could not calculate ungapped Karlin-Altschul parameters due to an invalid query sequence or its translation. Please verify the query sequence(s) and/or filtering options \n",
      "Warning: [blastn] lcl|Query_1 19_T7 Sample_Name=19_T7 Chromat_id=4693025 Read_id=4641259 Version=1 Length=5: Warning: Could not calculate ungapped Karlin-Altschul parameters due to an invalid query sequence or its translation. Please verify the query sequence(s) and/or filtering options \n",
      "Warning: [blastn] lcl|Query_1 20_T7 Sample_Name=20_T7 Chromat_id=4693026 Read_id=4641298 Version=1 Length=5: Warning: Could not calculate ungapped Karlin-Altschul parameters due to an invalid query sequence or its translation. Please verify the query sequence(s) and/or filtering options \n",
      "Warning: [blastn] lcl|Query_1 20_T7 Sample_Name=20_T7 Chromat_id=4693026 Read_id=4641298 Version=1 Length=5: Warning: Could not calculate ungapped Karlin-Altschul parameters due to an invalid query sequence or its translation. Please verify the query sequence(s) and/or filtering options \n",
      "Warning: [blastn] lcl|Query_1 21_T7 Sample_Name=21_T7 Chromat_id=4693030 Read_id=4641261 Version=1 Length=5: Warning: Could not calculate ungapped Karlin-Altschul parameters due to an invalid query sequence or its translation. Please verify the query sequence(s) and/or filtering options \n",
      "Warning: [blastn] lcl|Query_1 21_T7 Sample_Name=21_T7 Chromat_id=4693030 Read_id=4641261 Version=1 Length=5: Warning: Could not calculate ungapped Karlin-Altschul parameters due to an invalid query sequence or its translation. Please verify the query sequence(s) and/or filtering options \n",
      "Warning: [blastn] lcl|Query_1 93_T7 Sample_Name=93_T7 Chromat_id=4693091 Read_id=4641361 Version=1 Length=5: Warning: Could not calculate ungapped Karlin-Altschul parameters due to an invalid query sequence or its translation. Please verify the query sequence(s) and/or filtering options \n",
      "Warning: [blastn] lcl|Query_1 93_T7 Sample_Name=93_T7 Chromat_id=4693091 Read_id=4641361 Version=1 Length=5: Warning: Could not calculate ungapped Karlin-Altschul parameters due to an invalid query sequence or its translation. Please verify the query sequence(s) and/or filtering options \n",
      "Warning: [blastn] lcl|Query_1 39_T7 Sample_Name=39_T7 Chromat_id=4692784 Read_id=4641039 Version=1 Length=5: Warning: Could not calculate ungapped Karlin-Altschul parameters due to an invalid query sequence or its translation. Please verify the query sequence(s) and/or filtering options \n",
      "Warning: [blastn] lcl|Query_1 39_T7 Sample_Name=39_T7 Chromat_id=4692784 Read_id=4641039 Version=1 Length=5: Warning: Could not calculate ungapped Karlin-Altschul parameters due to an invalid query sequence or its translation. Please verify the query sequence(s) and/or filtering options \n"
     ]
    }
   ],
   "source": [
    "%%bash \n",
    "\n",
    "for i in out/*fasta; do\n",
    "  blastn -subject bagel.fasta -query $i -out ${i/fasta/blast}  \n",
    "  blastn -subject bagel.fasta -query $i -outfmt \"6 sseq qseq\" -out ${i/fasta/aligned} \n",
    "  tblastn -subject $i -query bglb.pep -outfmt \"6 qseq sseq\" -out ${i/fasta/diff} \n",
    "done "
   ]
  },
  {
   "cell_type": "code",
   "execution_count": 5,
   "metadata": {
    "collapsed": false
   },
   "outputs": [
    {
     "name": "stdout",
     "output_type": "stream",
     "text": [
      "23 23 e384c\n",
      "30 30 f415n\n",
      "32 32 h119w\n",
      "54 54 n443x\n",
      "57 57 n163k\n",
      "6 6 d403a\n",
      "66 66 q313a\n",
      "69 69 q313k\n",
      "78 78 v311d\n",
      "79 79 w120a\n",
      "82 82 w325a\n",
      "86 86 f3x+i4x\n",
      "94 94 y294f\n",
      "A04 A04 i1l+h3x\n",
      "B11 B11 e388c\n",
      "C09 C09 n443x\n",
      "D09 D09 n443x\n",
      "E04 E04 m358t\n",
      "E09 E09 q313k\n",
      "F06 F06 q138a\n",
      "F09 F09 q313k\n",
      "G09 G09 n443x\n",
      "H04 H04 h119w\n"
     ]
    }
   ],
   "source": [
    "picks = { }\n",
    "for fil in glob( 'out/*diff' ):\n",
    "    with open( fil ) as fn:\n",
    "        lines = fn.readlines()\n",
    "        try:\n",
    "            sub, que = lines[0].split( '\\t' )\n",
    "            d = '+'.join( [ '{}{}{}'.format(i, n+1, j).lower() for (n, (i, j)) in enumerate( zip( sub, que ) ) if i != j ] ) \n",
    "            mutant_label = fil.split( '/' )[1].split( '.' )[0]\n",
    "            mutant_name = mutant_label.split( '-' )[0]\n",
    "            if len( d ) < 8 and len( d ) > 1:\n",
    "                print mutant_label, mutant_name, d\n",
    "        except Exception as e:\n",
    "            pass \n",
    "        #if mutant_name == d:\n",
    "           #picks.update( { d: df.loc[ mutant_label ].well } )\n",
    "\n",
    "#with open( 'picks.json', 'w' ) as fn:\n",
    "#   fn.write( json.dumps( picks, indent=2 ) ) "
   ]
  }
 ],
 "metadata": {
  "kernelspec": {
   "display_name": "Python 2",
   "language": "python",
   "name": "python2"
  },
  "language_info": {
   "codemirror_mode": {
    "name": "ipython",
    "version": 2
   },
   "file_extension": ".py",
   "mimetype": "text/x-python",
   "name": "python",
   "nbconvert_exporter": "python",
   "pygments_lexer": "ipython2",
   "version": "2.7.11"
  }
 },
 "nbformat": 4,
 "nbformat_minor": 0
}
