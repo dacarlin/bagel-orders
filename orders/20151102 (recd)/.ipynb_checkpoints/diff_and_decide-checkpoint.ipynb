{
 "cells": [
  {
   "cell_type": "code",
   "execution_count": 4,
   "metadata": {
    "collapsed": false
   },
   "outputs": [
    {
     "name": "stdout",
     "output_type": "stream",
     "text": [
      "{\r\n",
      "  \"w407k\": \"D6\", \r\n",
      "  \"a236e\": \"D1\", \r\n",
      "  \"n163s\": \"D2\", \r\n",
      "  \"a249e\": \"F7\", \r\n",
      "  \"w407y\": \"F2\", \r\n",
      "  \"q19p\": \"B3\", \r\n",
      "  \"g153a\": \"F5\", \r\n",
      "  \"v320q\": \"G3\", \r\n",
      "  \"a227w\": \"C4\", \r\n"
     ]
    }
   ],
   "source": [
    "from subprocess import call \n",
    "from glob import glob \n",
    "import pandas \n",
    "\n",
    "well_map = 'kunkelWellCSV_r18bf4kyjjtv8.csv'\n",
    "\n",
    "# merge and align the sequences \n",
    "call(['bash', 'merge_and_align.bash', well_map ])\n",
    "\n",
    "# diff and decide \n",
    "df = pandas.read_csv( well_map )\n",
    "df.set_index( 'mutant name', inplace=True )\n",
    "\n",
    "picks = { }\n",
    "for fil in glob( 'out/*diff' ):\n",
    "    with open( fil ) as fn:\n",
    "        sub, que = fn.readlines()[0].split( '\\t' )   \n",
    "        d = '+'.join( [ '{}{}{}'.format(i, n+1, j).lower() for (n, (i, j)) in enumerate( zip( sub, que ) ) if i != j ] ) \n",
    "        mutant_label = fil.split( '/' )[1].split( '.' )[0]\n",
    "        mutant_name = mutant_label.split( '-' )[0]\n",
    "        if mutant_name == d:\n",
    "            picks.update( { d: df.loc[ mutant_label ].well } )\n",
    "import json \n",
    "with open( 'picks.json', 'w' ) as fn:\n",
    "    fn.write( json.dumps( picks, indent=2 ) ) \n",
    "#clones = pandas.DataFrame( picks, columns=['clone', 'well'] )\n",
    "#print 'Found that {} out of {} clones are correct ({}%)'.format( len( clones ), len( df ), 100 * len( clones ) / len( df ) )\n",
    "#clones.to_csv( 'clones.csv' )\n",
    "\n",
    "! head picks.json"
   ]
  },
  {
   "cell_type": "code",
   "execution_count": null,
   "metadata": {
    "collapsed": true
   },
   "outputs": [],
   "source": []
  }
 ],
 "metadata": {
  "kernelspec": {
   "display_name": "Python 2",
   "language": "python",
   "name": "python2"
  },
  "language_info": {
   "codemirror_mode": {
    "name": "ipython",
    "version": 2
   },
   "file_extension": ".py",
   "mimetype": "text/x-python",
   "name": "python",
   "nbconvert_exporter": "python",
   "pygments_lexer": "ipython2",
   "version": "2.7.10"
  }
 },
 "nbformat": 4,
 "nbformat_minor": 0
}
