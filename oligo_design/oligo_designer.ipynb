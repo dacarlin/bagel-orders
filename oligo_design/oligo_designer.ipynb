{
 "cells": [
  {
   "cell_type": "code",
   "execution_count": 1,
   "metadata": {
    "collapsed": true
   },
   "outputs": [],
   "source": [
    "from skbio import DNA"
   ]
  },
  {
   "cell_type": "code",
   "execution_count": 2,
   "metadata": {
    "collapsed": false
   },
   "outputs": [],
   "source": [
    "ecoli_favorite = { \n",
    "    'G':'GGC', 'A':'GCG', 'V':'GTG', 'F':'TTT', 'E':'GAA', 'D':'GAT', 'N':'AAC', 'C':'TGC', 'K':'AAA', 'L':'CTG',\n",
    "    'H':'CAT', 'P':'CCG', 'Q':'CAG', 'W':'TGG', 'Y':'TAT', 'I':'ATT', 'M':'ATG', 'R':'CGT', 'T':'ACC', 'S':'AGC', \n",
    "}"
   ]
  },
  {
   "cell_type": "code",
   "execution_count": 3,
   "metadata": {
    "collapsed": false,
    "scrolled": false
   },
   "outputs": [],
   "source": [
    "dna = DNA.read( 'bglb_model_coding.fa' ) \n",
    "kmers = [ dna[i:i+33] for i in range( 0, len( dna ), 3 ) ]\n",
    "\n",
    "my_oligos = []\n",
    "for i, k in enumerate( kmers ):\n",
    "    for aa, codon in ecoli_favorite.items():\n",
    "        my_str = str( k[:15] ) + codon + str( k[18:] )\n",
    "        my_dna = DNA( my_str ) \n",
    "        my_oligo = my_dna.reverse_complement()\n",
    "        my_name = str( k[15:18].translate() ) + str( i + 6 ) + aa\n",
    "        if len( my_oligo ) == 33:\n",
    "            my_oligos.append( '>{}\\n{}\\n'.format( my_name, my_oligo ) )\n",
    "\n",
    "with open( 'antisense_oligos.fa', 'w' ) as fn:\n",
    "    fn.write( ''.join( my_oligos ) ) "
   ]
  },
  {
   "cell_type": "code",
   "execution_count": 4,
   "metadata": {
    "collapsed": true
   },
   "outputs": [],
   "source": [
    "dna = DNA.read( 'bglb_model_coding.fa' ) \n",
    "kmers = [ dna[i:i+33] for i in range( 0, len( dna ), 3 ) ]\n",
    "\n",
    "my_oligos = []\n",
    "for i, k in enumerate( kmers ):\n",
    "    for aa, codon in ecoli_favorite.items():\n",
    "        my_str = str( k[:15] ) + codon + str( k[18:] )\n",
    "        my_dna = DNA( my_str ) \n",
    "        my_oligo = my_dna #.reverse_complement()\n",
    "        my_name = str( k[15:18].translate() ) + str( i + 6 ) + aa\n",
    "        if len( my_oligo ) == 33:\n",
    "            my_oligos.append( '>{}\\n{}\\n'.format( my_name, my_oligo ) )\n",
    "\n",
    "with open( 'sense_oligos.fa', 'w' ) as fn:\n",
    "    fn.write( ''.join( my_oligos ) ) "
   ]
  },
  {
   "cell_type": "code",
   "execution_count": 5,
   "metadata": {
    "collapsed": false
   },
   "outputs": [
    {
     "name": "stdout",
     "output_type": "stream",
     "text": [
      "==> antisense_oligos.fa <==\r\n",
      ">P6C\r\n",
      "CCACATAAAGGTTGCGCAAAAGATAAAGGTGTT\r\n",
      ">P6E\r\n",
      "CCACATAAAGGTTGCTTCAAAGATAAAGGTGTT\r\n",
      ">P6P\r\n",
      "CCACATAAAGGTTGCCGGAAAGATAAAGGTGTT\r\n",
      ">P6T\r\n",
      "CCACATAAAGGTTGCGGTAAAGATAAAGGTGTT\r\n",
      ">P6W\r\n",
      "CCACATAAAGGTTGCCCAAAAGATAAAGGTGTT\r\n",
      "\r\n",
      "==> my_oligos.fa <==\r\n",
      ">P6A\r\n",
      "CCACATAAAGGTTGCCGCAAAGATAAAGGTGTT\r\n",
      ">P6C\r\n",
      "CCACATAAAGGTTGCGCAAAAGATAAAGGTGTT\r\n",
      ">P6E\r\n",
      "CCACATAAAGGTTGCTTCAAAGATAAAGGTGTT\r\n",
      ">P6D\r\n",
      "CCACATAAAGGTTGCATCAAAGATAAAGGTGTT\r\n",
      ">P6G\r\n",
      "CCACATAAAGGTTGCGCCAAAGATAAAGGTGTT\r\n",
      "\r\n",
      "==> sense_oligos.fa <==\r\n",
      ">P6C\r\n",
      "AACACCTTTATCTTTTGCGCAACCTTTATGTGG\r\n",
      ">P6E\r\n",
      "AACACCTTTATCTTTGAAGCAACCTTTATGTGG\r\n",
      ">P6P\r\n",
      "AACACCTTTATCTTTCCGGCAACCTTTATGTGG\r\n",
      ">P6T\r\n",
      "AACACCTTTATCTTTACCGCAACCTTTATGTGG\r\n",
      ">P6W\r\n",
      "AACACCTTTATCTTTTGGGCAACCTTTATGTGG\r\n"
     ]
    }
   ],
   "source": [
    "! head *oligos.fa"
   ]
  },
  {
   "cell_type": "code",
   "execution_count": null,
   "metadata": {
    "collapsed": true
   },
   "outputs": [],
   "source": []
  }
 ],
 "metadata": {
  "anaconda-cloud": {},
  "kernelspec": {
   "display_name": "Python [conda root]",
   "language": "python",
   "name": "conda-root-py"
  },
  "language_info": {
   "codemirror_mode": {
    "name": "ipython",
    "version": 3
   },
   "file_extension": ".py",
   "mimetype": "text/x-python",
   "name": "python",
   "nbconvert_exporter": "python",
   "pygments_lexer": "ipython3",
   "version": "3.5.2"
  }
 },
 "nbformat": 4,
 "nbformat_minor": 0
}
