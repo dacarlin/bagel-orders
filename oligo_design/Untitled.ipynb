{
 "cells": [
  {
   "cell_type": "code",
   "execution_count": 101,
   "metadata": {
    "collapsed": true
   },
   "outputs": [],
   "source": [
    "from skbio import DNA"
   ]
  },
  {
   "cell_type": "code",
   "execution_count": 102,
   "metadata": {
    "collapsed": false
   },
   "outputs": [],
   "source": [
    "ecoli_favorite = { \n",
    "    'G':'GGC', 'A':'GCG', 'V':'GTG', 'F':'TTT', 'E':'GAA', 'D':'GAT', 'N':'AAC', 'C':'TGC', 'K':'AAA', 'L':'CTG',\n",
    "    'H':'CAT', 'P':'CCG', 'Q':'CAG', 'W':'TGG', 'Y':'TAT', 'I':'ATT', 'M':'ATG', 'R':'CGT', 'T':'ACC', 'S':'AGC', \n",
    "}"
   ]
  },
  {
   "cell_type": "code",
   "execution_count": 103,
   "metadata": {
    "collapsed": false,
    "scrolled": false
   },
   "outputs": [],
   "source": [
    "dna = DNA.read( 'bglb_model_coding.fa' ) \n",
    "kmers = [ dna[i:i+33] for i in range( 0, len( dna ), 3 ) ]\n",
    "\n",
    "my_oligos = []\n",
    "for i, k in enumerate( kmers ):\n",
    "    for aa, codon in ecoli_favorite.iteritems():\n",
    "        my_str = str( k[:15] ) + codon + str( k[18:] )\n",
    "        my_dna = DNA( my_str ) \n",
    "        my_oligo = my_dna.reverse_complement()\n",
    "        my_name = str( k[15:18].translate() ) + str( i + 6 ) + aa\n",
    "        if len( my_oligo ) == 33:\n",
    "            my_oligos.append( '>{}\\n{}\\n'.format( my_name, my_oligo ) )\n",
    "\n",
    "with open( 'my_oligos.fa', 'w' ) as fn:\n",
    "    fn.write( ''.join( my_oligos ) ) "
   ]
  },
  {
   "cell_type": "code",
   "execution_count": 110,
   "metadata": {
    "collapsed": false
   },
   "outputs": [
    {
     "name": "stdout",
     "output_type": "stream",
     "text": [
      ">P6A\r\n",
      "CCACATAAAGGTTGCCGCAAAGATAAAGGTGTT\r\n",
      ">P6C\r\n",
      "CCACATAAAGGTTGCGCAAAAGATAAAGGTGTT\r\n",
      ">P6E\r\n",
      "CCACATAAAGGTTGCTTCAAAGATAAAGGTGTT\r\n",
      ">P6D\r\n",
      "CCACATAAAGGTTGCATCAAAGATAAAGGTGTT\r\n",
      ">P6G\r\n",
      "CCACATAAAGGTTGCGCCAAAGATAAAGGTGTT\r\n"
     ]
    }
   ],
   "source": [
    "! head my_oligos.fa"
   ]
  }
 ],
 "metadata": {
  "kernelspec": {
   "display_name": "Python 2",
   "language": "python",
   "name": "python2"
  },
  "language_info": {
   "codemirror_mode": {
    "name": "ipython",
    "version": 2
   },
   "file_extension": ".py",
   "mimetype": "text/x-python",
   "name": "python",
   "nbconvert_exporter": "python",
   "pygments_lexer": "ipython2",
   "version": "2.7.11"
  }
 },
 "nbformat": 4,
 "nbformat_minor": 0
}
