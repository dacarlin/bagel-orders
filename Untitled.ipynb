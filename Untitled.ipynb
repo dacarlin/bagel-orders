{
 "cells": [
  {
   "cell_type": "code",
   "execution_count": 31,
   "metadata": {
    "collapsed": false
   },
   "outputs": [
    {
     "ename": "TranslationError",
     "evalue": "Codon 'NT-' is invalid",
     "output_type": "error",
     "traceback": [
      "\u001b[0;31m---------------------------------------------------------------------------\u001b[0m",
      "\u001b[0;31mTranslationError\u001b[0m                          Traceback (most recent call last)",
      "\u001b[0;32m<ipython-input-31-7e45818130b3>\u001b[0m in \u001b[0;36m<module>\u001b[0;34m()\u001b[0m\n\u001b[1;32m     14\u001b[0m \u001b[0;34m\u001b[0m\u001b[0m\n\u001b[1;32m     15\u001b[0m         \u001b[0mtrans_sub\u001b[0m \u001b[0;34m=\u001b[0m \u001b[0msub1\u001b[0m\u001b[0;34m.\u001b[0m\u001b[0mtranslate\u001b[0m\u001b[0;34m(\u001b[0m\u001b[0;34m)\u001b[0m\u001b[0;34m\u001b[0m\u001b[0m\n\u001b[0;32m---> 16\u001b[0;31m         \u001b[0mtrans_que\u001b[0m \u001b[0;34m=\u001b[0m \u001b[0mque1\u001b[0m\u001b[0;34m.\u001b[0m\u001b[0mtranslate\u001b[0m\u001b[0;34m(\u001b[0m\u001b[0;34m)\u001b[0m\u001b[0;34m\u001b[0m\u001b[0m\n\u001b[0m\u001b[1;32m     17\u001b[0m \u001b[0;34m\u001b[0m\u001b[0m\n\u001b[1;32m     18\u001b[0m         \u001b[0mzip\u001b[0m\u001b[0;34m(\u001b[0m \u001b[0mtrans_sub\u001b[0m\u001b[0;34m,\u001b[0m \u001b[0mtrans_que\u001b[0m \u001b[0;34m)\u001b[0m\u001b[0;34m\u001b[0m\u001b[0m\n",
      "\u001b[0;32m/Users/alex/Applications/anaconda/lib/python2.7/site-packages/Bio/Seq.pyc\u001b[0m in \u001b[0;36mtranslate\u001b[0;34m(self, table, stop_symbol, to_stop, cds)\u001b[0m\n\u001b[1;32m   1002\u001b[0m                 \u001b[0mcodon_table\u001b[0m \u001b[0;34m=\u001b[0m \u001b[0mCodonTable\u001b[0m\u001b[0;34m.\u001b[0m\u001b[0mambiguous_generic_by_id\u001b[0m\u001b[0;34m[\u001b[0m\u001b[0mtable_id\u001b[0m\u001b[0;34m]\u001b[0m\u001b[0;34m\u001b[0m\u001b[0m\n\u001b[1;32m   1003\u001b[0m         protein = _translate_str(str(self), codon_table,\n\u001b[0;32m-> 1004\u001b[0;31m                                  stop_symbol, to_stop, cds)\n\u001b[0m\u001b[1;32m   1005\u001b[0m         \u001b[0;32mif\u001b[0m \u001b[0mstop_symbol\u001b[0m \u001b[0;32min\u001b[0m \u001b[0mprotein\u001b[0m\u001b[0;34m:\u001b[0m\u001b[0;34m\u001b[0m\u001b[0m\n\u001b[1;32m   1006\u001b[0m             alphabet = Alphabet.HasStopCodon(codon_table.protein_alphabet,\n",
      "\u001b[0;32m/Users/alex/Applications/anaconda/lib/python2.7/site-packages/Bio/Seq.pyc\u001b[0m in \u001b[0;36m_translate_str\u001b[0;34m(sequence, table, stop_symbol, to_stop, cds, pos_stop)\u001b[0m\n\u001b[1;32m   2058\u001b[0m             \u001b[0;32melse\u001b[0m\u001b[0;34m:\u001b[0m\u001b[0;34m\u001b[0m\u001b[0m\n\u001b[1;32m   2059\u001b[0m                 raise CodonTable.TranslationError(\n\u001b[0;32m-> 2060\u001b[0;31m                     \"Codon '{0}' is invalid\".format(codon))\n\u001b[0m\u001b[1;32m   2061\u001b[0m     \u001b[0;32mreturn\u001b[0m \u001b[0;34m\"\"\u001b[0m\u001b[0;34m.\u001b[0m\u001b[0mjoin\u001b[0m\u001b[0;34m(\u001b[0m\u001b[0mamino_acids\u001b[0m\u001b[0;34m)\u001b[0m\u001b[0;34m\u001b[0m\u001b[0m\n\u001b[1;32m   2062\u001b[0m \u001b[0;34m\u001b[0m\u001b[0m\n",
      "\u001b[0;31mTranslationError\u001b[0m: Codon 'NT-' is invalid"
     ]
    }
   ],
   "source": [
    "from Bio import SeqIO\n",
    "from Bio import Blast\n",
    "\n",
    "from glob import glob\n",
    "for i in glob( 'orders/20151027/out/*aligned' ):\n",
    "    with open( i ) as fn:\n",
    "        sub, que = fn.readlines()[0].split( '\\t' )\n",
    "        \n",
    "        from Bio.Seq import Seq\n",
    "        from Bio.Alphabet import generic_dna\n",
    "    \n",
    "        sub1 = Seq(sub, generic_dna)\n",
    "        que1 = Seq(que, generic_dna)\n",
    "        \n",
    "        trans_sub = sub1.translate()\n",
    "        trans_que = que1.translate()\n",
    "        \n",
    "        zip( trans_sub, trans_que )\n",
    "\n",
    "for i in SeqIO.parse( 'orders/20151027/out/d322a-1.fasta', 'fasta' ):\n",
    "    print i.seq.translate()\n"
   ]
  },
  {
   "cell_type": "code",
   "execution_count": null,
   "metadata": {
    "collapsed": true
   },
   "outputs": [],
   "source": [
    "pos1 = 174\n",
    "pos2 = 233\n",
    "res1 = [ '', '', '', '', '', '', ]\n",
    "res2 = [ 'ARG', 'HIS', 'LYS', 'ASN', 'GLN', 'SER',  ]"
   ]
  }
 ],
 "metadata": {
  "kernelspec": {
   "display_name": "Python 2",
   "language": "python",
   "name": "python2"
  },
  "language_info": {
   "codemirror_mode": {
    "name": "ipython",
    "version": 2
   },
   "file_extension": ".py",
   "mimetype": "text/x-python",
   "name": "python",
   "nbconvert_exporter": "python",
   "pygments_lexer": "ipython2",
   "version": "2.7.10"
  }
 },
 "nbformat": 4,
 "nbformat_minor": 0
}
