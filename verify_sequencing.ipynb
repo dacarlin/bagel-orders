{
 "cells": [
  {
   "cell_type": "code",
   "execution_count": null,
   "metadata": {
    "collapsed": true
   },
   "outputs": [],
   "source": [
    "from Bio import SeqIO\n",
    "from glob import glob \n",
    "from subprocess import call, check_output"
   ]
  },
  {
   "cell_type": "code",
   "execution_count": null,
   "metadata": {
    "collapsed": true
   },
   "outputs": [],
   "source": [
    "# enter your params\n",
    "\n",
    "read_dir = 'orders/current/fall_2016_round_2/genscript_sequencing/191641_dna_seq_rep_9025003_zip/'\n",
    "wt_pep = 'oligo_design/bglb_model.fa'\n",
    "# allowed_mutants = 'allowed_mutants.txt' \n",
    "sample_list = []"
   ]
  },
  {
   "cell_type": "code",
   "execution_count": null,
   "metadata": {
    "collapsed": false
   },
   "outputs": [],
   "source": [
    "# convert all the reads to FASTQ\n",
    "\n",
    "for read in glob( '{}/*ab1'.format( read_dir ) ):\n",
    "    SeqIO.convert( read, 'abi', read.replace( 'ab1', 'fastq' ), 'fastq' )"
   ]
  },
  {
   "cell_type": "code",
   "execution_count": null,
   "metadata": {
    "collapsed": false
   },
   "outputs": [],
   "source": [
    "# read from file \n",
    "\n",
    "# my_sample_list_file = 'sample_list.txt'\n",
    "# with open( my_sample_list_file ) as fn:\n",
    "#     sample_list = fn.read().split()\n",
    "\n",
    "# try get a ist of the samples if we don't already have that \n",
    "\n",
    "# if not sample_list:\n",
    "#     my_glob = '{}/*fastq'\n",
    "#     print 'No sample list, attempting to find one with the glob \"{}\"'.format( my_glob ) \n",
    "#     my_files = glob( my_glob.format( read_dir ) )\n",
    "#     #my_samples = map( lambda x: x.split( '/' )[1].split( '_' )[2], my_files ) \n",
    "#     sample_list = [ x.split( '/' )[1].split( '_' )[2] for x in my_files ] \n",
    "#     print sample_list "
   ]
  },
  {
   "cell_type": "code",
   "execution_count": null,
   "metadata": {
    "collapsed": false,
    "scrolled": false
   },
   "outputs": [],
   "source": [
    "# pair and merge the reads \n",
    "\n",
    "expect = 0\n",
    "for sample in sample_list:\n",
    "\n",
    "    #genscript\n",
    "    fwd = glob( '{}/*_{}_T7.fastq'.format( read_dir, sample ) ) \n",
    "    rev = glob( '{}/*_{}_T7-Ter.fastq'.format( read_dir, sample ) )\n",
    "    #print( len(fwd), len(rev) )\n",
    "    \n",
    "    #operon \n",
    "#     fwd = glob( '{}/{}_T7_*.fastq'.format( read_dir, sample ) ) \n",
    "#     rev = glob( '{}/{}_T7term_*.fastq'.format( read_dir, sample ) )\n",
    "#     print len( fwd ), len( rev )\n",
    "\n",
    "    if len( fwd ) == len( rev ) == 1:\n",
    "        pear_opts = [ '-e', '2' ] \n",
    "        cmd = [ 'pear', '-f', fwd[0], '-r', rev[0], '-o', '{}/{}'.format( read_dir, sample ) ] + pear_opts\n",
    "        call( cmd )\n",
    "        expect += 1 "
   ]
  },
  {
   "cell_type": "code",
   "execution_count": null,
   "metadata": {
    "collapsed": false
   },
   "outputs": [],
   "source": [
    "# convert all the assemblies to FASTA\n",
    "\n",
    "for assembly in glob( '{}/*.assembled.fastq'.format( read_dir ) ):\n",
    "    SeqIO.convert( assembly, 'fastq', assembly.replace( 'fastq', 'fasta' ), 'fasta' )"
   ]
  },
  {
   "cell_type": "code",
   "execution_count": null,
   "metadata": {
    "collapsed": false
   },
   "outputs": [],
   "source": [
    "# # load in allowed mutants for error checking \n",
    "\n",
    "# with open( allowed_mutants ) as fn:\n",
    "#     allowed_mutants = [ i.strip() for i in fn.readlines() if len(i) > 1 ] "
   ]
  },
  {
   "cell_type": "code",
   "execution_count": null,
   "metadata": {
    "collapsed": false,
    "scrolled": false
   },
   "outputs": [],
   "source": [
    "# diff the assemblies against the wild type protein sequence \n",
    "\n",
    "singles = []\n",
    "for assembly in glob( '{}/*.assembled.fasta'.format( read_dir ) ):\n",
    "    name = assembly.split( '.' )[0] \n",
    "    lines = check_output( [ 'blastx', '-subject', wt_pep, '-query', assembly, '-outfmt', '6 sseq qseq length' ] ).split()\n",
    "    if lines and lines[0] and lines[1] and lines[2]:        \n",
    "        z = zip( str( lines[0] ), str( lines[1] ) )\n",
    "        d = [ '{}{}{}'.format( i, n-1, j ) for n, ( i, j ) in enumerate( z ) if i != j ]\n",
    "        dstr = '+'.join( d )\n",
    "        # coded responses \n",
    "        if len( d ) == 0: \n",
    "            print( name, '\\twild type' )\n",
    "        elif len( d ) == 1:\n",
    "            if d[0] in allowed_mutants:\n",
    "                print( name, '\\t{}'.format( dstr ) )\n",
    "                singles.append( ( d[0], name ) )\n",
    "            else:\n",
    "                print( name, '\\t{}'.format( dstr ) )\n",
    "                #print( name, '\\tbad alignment' )\n",
    "        elif len( d ) > 1:\n",
    "            #print name, '\\t... ({} mutations)'.format( len( d ) ) \n",
    "            print( name, '\\t{}'.format( dstr ) )"
   ]
  },
  {
   "cell_type": "code",
   "execution_count": null,
   "metadata": {
    "collapsed": false
   },
   "outputs": [],
   "source": [
    "# results \n",
    "picks = dict( singles ) \n",
    "l = len( picks ) \n",
    "print( 'Found {} of {} expected mutants'.format( l, expect ) )"
   ]
  }
 ],
 "metadata": {
  "anaconda-cloud": {},
  "kernelspec": {
   "display_name": "Python [conda root]",
   "language": "python",
   "name": "conda-root-py"
  },
  "language_info": {
   "codemirror_mode": {
    "name": "ipython",
    "version": 3
   },
   "file_extension": ".py",
   "mimetype": "text/x-python",
   "name": "python",
   "nbconvert_exporter": "python",
   "pygments_lexer": "ipython3",
   "version": "3.5.2"
  }
 },
 "nbformat": 4,
 "nbformat_minor": 0
}
